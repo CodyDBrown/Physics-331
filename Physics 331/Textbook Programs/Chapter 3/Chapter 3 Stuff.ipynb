{
 "cells": [
  {
   "cell_type": "markdown",
   "metadata": {},
   "source": [
    "# Chapter 3 Stuff"
   ]
  },
  {
   "cell_type": "code",
   "execution_count": 17,
   "metadata": {},
   "outputs": [],
   "source": [
    "import numpy as np\n",
    "import matplotlib.pyplot as plt"
   ]
  },
  {
   "cell_type": "code",
   "execution_count": 3,
   "metadata": {},
   "outputs": [
    {
     "name": "stdout",
     "output_type": "stream",
     "text": [
      "/home/cody/Physics 331/Textbook Programs/Chapter 3\n",
      "efld_mag2.py  efld.py  requirements.txt  Untitled.ipynb\r\n"
     ]
    }
   ],
   "source": [
    "%cd ~/Physics 331/Textbook Programs/Chapter 3\n",
    "%ls"
   ]
  },
  {
   "cell_type": "code",
   "execution_count": 23,
   "metadata": {},
   "outputs": [],
   "source": [
    "# %load efld.py\n",
    "def efld(x):\n",
    "    \"\"\"\n",
    "    Finds the electric field from three point charges located at (0,0), (1,0), and (0,0.5).\n",
    "\n",
    "    Input\n",
    "    ----------\n",
    "    x:  Point where I want to find the electric field. This needs to be a two\n",
    "        point list or array [x,y].\n",
    "\n",
    "    Output\n",
    "    ----------\n",
    "    e: Electic field at point x. [E_x, E_y]\n",
    "\n",
    "    \"\"\"\n",
    "\n",
    "    eps0 = 8.8542e-12 #Permittivity of free space (F/m)\n",
    "\n",
    "    xa = np.array([0.0, 0.0])    #Possitions of charge 'a' (m)\n",
    "    qa = 1.0                #Charge of 'a' (C)\n",
    "\n",
    "    xb = np.array([1.0, 0.0])\n",
    "    qb = 3.0\n",
    "\n",
    "    xc = np.array([0.0, 0.5])\n",
    "    qc = -4.0\n",
    "\n",
    "    ra = x - xa\n",
    "    rb = x - xb\n",
    "    rc = x - xc\n",
    "\n",
    "    ra_mag = np.sqrt(ra[0]**2 + ra[1]**2)\n",
    "    rb_mag = np.sqrt(rb[0]**2 + rb[1]**2)\n",
    "    rc_mag = np.sqrt(rc[0]**2 + rc[1]**2)\n",
    "\n",
    "    e = (qa * ra / ra_mag**3 + qb * rb / rb_mag**3 + qc * rc / rc_mag**3) / (4 * np.pi * eps0) #Electric field (N/C)\n",
    "    return e\n"
   ]
  },
  {
   "cell_type": "code",
   "execution_count": 12,
   "metadata": {},
   "outputs": [
    {
     "name": "stdout",
     "output_type": "stream",
     "text": [
      "[-1.69221231e+11  5.08412006e+10]\n"
     ]
    }
   ],
   "source": [
    "ep = efld(np.array([.5,.5]))\n",
    "print(ep)"
   ]
  },
  {
   "cell_type": "code",
   "execution_count": 8,
   "metadata": {},
   "outputs": [
    {
     "data": {
      "text/plain": [
       "array([0, 0, 0])"
      ]
     },
     "execution_count": 8,
     "metadata": {},
     "output_type": "execute_result"
    }
   ],
   "source": [
    "x = [1,2,3]\n",
    "y = np.array([1,2,3])\n",
    "x - y"
   ]
  },
  {
   "cell_type": "code",
   "execution_count": 24,
   "metadata": {},
   "outputs": [],
   "source": [
    "# %load efld_mag2.py\n",
    "\"\"\"\n",
    "This first line is telling python to look at the file efld.py. Inside that file\n",
    "there should be a function called efld. Without this first line the program wont \n",
    "know what do to when I try and call efld.\n",
    "\"\"\"\n",
    "def efld_mag2(x):\n",
    "    \"\"\"\n",
    "    I want to find the magnitude of the electric field for the arrangment of\n",
    "    charged particles given in the program efld.py\n",
    "\n",
    "    Input\n",
    "    ----------\n",
    "    x:  Two element array (x(0) = x value, x(1) = y value) of where I want to\n",
    "        find the magnitude of the electric field.\n",
    "\n",
    "    Output\n",
    "    ----------\n",
    "    mag: magnitude of the electric field evaluated at the input point 'x'\n",
    "    \"\"\"\n",
    "\n",
    "    e = efld(x)\n",
    "    mag = e[0]**2 + e[1]**2\n",
    "    return mag\n"
   ]
  },
  {
   "cell_type": "code",
   "execution_count": 15,
   "metadata": {},
   "outputs": [],
   "source": [
    "import scipy.optimize"
   ]
  },
  {
   "cell_type": "code",
   "execution_count": 43,
   "metadata": {},
   "outputs": [
    {
     "name": "stdout",
     "output_type": "stream",
     "text": [
      "Warning: Maximum number of function evaluations has been exceeded.\n",
      "Optimization terminated successfully.\n",
      "         Current function value: 0.000004\n",
      "         Iterations: 122\n",
      "         Function evaluations: 231\n"
     ]
    }
   ],
   "source": [
    "x0 = scipy.optimize.fmin(efld_mag2, np.array([1.5,0.9]), xtol = 1e-7, ftol = 1e-7)\n",
    "x01 = scipy.optimize.fmin(efld_mag2, np.array([0.5,0.0]), xtol= 1e-5, ftol = 1e-5)"
   ]
  },
  {
   "cell_type": "code",
   "execution_count": 44,
   "metadata": {},
   "outputs": [
    {
     "name": "stdout",
     "output_type": "stream",
     "text": [
      "[5.39417785e+16 6.02445501e+15] [ 0.26391312 -0.19112457]\n"
     ]
    }
   ],
   "source": [
    "print(x0, x01)"
   ]
  },
  {
   "cell_type": "code",
   "execution_count": 42,
   "metadata": {},
   "outputs": [
    {
     "name": "stdout",
     "output_type": "stream",
     "text": [
      "[ 5.18865006e-05 -2.39476157e-05] [-0.00181603  0.00106966]\n"
     ]
    }
   ],
   "source": [
    "print(efld(x0),efld(x01))"
   ]
  },
  {
   "cell_type": "code",
   "execution_count": 28,
   "metadata": {},
   "outputs": [
    {
     "data": {
      "text/plain": [
       "array([-4.1708356e+08,  2.3493481e+08])"
      ]
     },
     "execution_count": 28,
     "metadata": {},
     "output_type": "execute_result"
    }
   ],
   "source": [
    "efld(x0 + [0.001,0])"
   ]
  },
  {
   "cell_type": "code",
   "execution_count": 29,
   "metadata": {},
   "outputs": [
    {
     "data": {
      "text/plain": [
       "array([2.37261825e+08, 1.86243447e+08])"
      ]
     },
     "execution_count": 29,
     "metadata": {},
     "output_type": "execute_result"
    }
   ],
   "source": [
    "efld(x0 + [0,0.001])"
   ]
  },
  {
   "cell_type": "code",
   "execution_count": null,
   "metadata": {},
   "outputs": [],
   "source": []
  }
 ],
 "metadata": {
  "kernelspec": {
   "display_name": "Python 3",
   "language": "python",
   "name": "python3"
  },
  "language_info": {
   "codemirror_mode": {
    "name": "ipython",
    "version": 3
   },
   "file_extension": ".py",
   "mimetype": "text/x-python",
   "name": "python",
   "nbconvert_exporter": "python",
   "pygments_lexer": "ipython3",
   "version": "3.6.6"
  }
 },
 "nbformat": 4,
 "nbformat_minor": 2
}
