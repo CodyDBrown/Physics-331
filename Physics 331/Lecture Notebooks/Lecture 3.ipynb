{
 "cells": [
  {
   "cell_type": "markdown",
   "metadata": {},
   "source": [
    "# Lecture 3\n",
    "    1. White board explanation\n",
    "    2. bisect_eq2.py\n",
    "    3. What could we do better? \n",
    "    4. bisect.py\n",
    "    5. Machine epsilon"
   ]
  },
  {
   "cell_type": "code",
   "execution_count": 2,
   "metadata": {},
   "outputs": [
    {
     "name": "stdout",
     "output_type": "stream",
     "text": [
      "/home/cody/Physics 331/Textbook Programs/Chapter 2\n",
      "bisect_eq2.py          deriv_eq2.py  \u001b[0m\u001b[01;35mfigure 2.1.png\u001b[0m  \u001b[01;35mfigure 2.4.png\u001b[0m\r\n",
      "bisect.py              equation2.py  \u001b[01;35mFigure 2.2.png\u001b[0m  newton.py\r\n",
      "Chapter 2 Stuff.ipynb  equation3.py  \u001b[01;35mfigure 2.3.png\u001b[0m  \u001b[01;34m__pycache__\u001b[0m/\r\n"
     ]
    }
   ],
   "source": [
    "%cd '/home/cody/Physics 331/Textbook Programs/Chapter 2'\n",
    "%ls"
   ]
  },
  {
   "cell_type": "markdown",
   "metadata": {},
   "source": [
    "First lets make a plot of the function we want to solve for, \n",
    "\n",
    "$f(x) = e^x - 3x^2$"
   ]
  },
  {
   "cell_type": "code",
   "execution_count": 105,
   "metadata": {},
   "outputs": [
    {
     "data": {
      "image/png": "[encoded data removed]",
      "text/plain": [
       "<Figure size 720x720 with 1 Axes>"
      ]
     },
     "metadata": {},
     "output_type": "display_data"
    }
   ],
   "source": [
    "import numpy as np\n",
    "import matplotlib.pyplot as plt\n",
    "\n",
    "plt.figure(figsize = (10,10))\n",
    "\n",
    "x = np.linspace(-2,4.5,10000)\n",
    "plt.hlines(0, -2,4.5, linestyles='dashed')\n",
    "plt.plot(x, np.exp(x) - 3*x**2)\n",
    "\n",
    "plt.title('Plot of $f(x) = e^x - 3x^2$', size = 14)\n",
    "plt.ylabel('$f(x)$', size = 14)\n",
    "plt.xlabel('x', size = 14)\n",
    "\n",
    "plt.show()"
   ]
  },
  {
   "cell_type": "markdown",
   "metadata": {},
   "source": [
    "just by looking at the graph we see where are 3 zeros we could find"
   ]
  },
  {
   "cell_type": "code",
   "execution_count": 43,
   "metadata": {},
   "outputs": [],
   "source": [
    "# %load bisect_eq2.py\n",
    "import numpy as np\n",
    "\n",
    "def bisect_eq2(xL, xR):\n",
    "    \"\"\"\n",
    "    Find a solution to the equation f(x) = e^x - 3*x^2 = 0 using a bisection\n",
    "    method. Starts with the interval between xL, xR and returns a\n",
    "    solution. The Solution will be accurate to 0.5e-5. f(xL) and f(xR)\n",
    "    need to have different signs (one positive, one negative).\n",
    "\n",
    "    Inputs\n",
    "    ----------\n",
    "    xL: Lower 'x' value I want to evaluate the function f(x) at\n",
    "    xR: Higher 'x' value I want to evaluate the function f(x) at\n",
    "\n",
    "    Output\n",
    "    ----------\n",
    "    x_zero: 'x' value that when put into f(x) returns zero.\n",
    "    \"\"\"\n",
    "\n",
    "    #Evaluate the function at the left and right values.\n",
    "    fL = np.exp(xL) - 3*xL**2\n",
    "    fR = np.exp(xR) - 3*xR**2\n",
    "\n",
    "    #Keep doing bisect until the difference between the two values is less than\n",
    "    # 10**-5\n",
    "    while xR - xL > 1.0e-5:\n",
    "        xMP = 0.5*(xL + xR)    # Mid-point\n",
    "        fMP = np.exp(xMP) - 3*xMP**2 # Function evaluated at the mid point\n",
    "\n",
    "        if fMP * fL > 0.0:         # mp value has same sign as left\n",
    "            xL = xMP               # Reset the left to be the mp\n",
    "            f_left = fMP\n",
    "        else:\n",
    "            xR = xMP               # or set right value to mp\n",
    "    x_zero = 0.5*(xL + xR)\n",
    "    return x_zero\n"
   ]
  },
  {
   "cell_type": "code",
   "execution_count": 49,
   "metadata": {},
   "outputs": [
    {
     "name": "stdout",
     "output_type": "stream",
     "text": [
      "-0.4589653015136719\n"
     ]
    }
   ],
   "source": [
    "x_zero = bisect_eq2(-1,0)\n",
    "\n",
    "print(x_zero)"
   ]
  },
  {
   "cell_type": "code",
   "execution_count": 45,
   "metadata": {},
   "outputs": [
    {
     "data": {
      "text/plain": [
       "-1.0272198213034933e-05"
      ]
     },
     "execution_count": 45,
     "metadata": {},
     "output_type": "execute_result"
    }
   ],
   "source": [
    "np.exp(x_zero) - 3*x_zero**2"
   ]
  },
  {
   "cell_type": "code",
   "execution_count": 53,
   "metadata": {},
   "outputs": [
    {
     "name": "stdout",
     "output_type": "stream",
     "text": [
      "0.9100074768066406 3.733078956604004\n"
     ]
    }
   ],
   "source": [
    "x_zero2 = bisect_eq2(0,2)\n",
    "x_zero3 = bisect_eq2(2,4.5)\n",
    "print(x_zero2,x_zero3)"
   ]
  },
  {
   "cell_type": "code",
   "execution_count": 54,
   "metadata": {},
   "outputs": [
    {
     "data": {
      "text/plain": [
       "(2.847215063717101e-07, -1.3980188242612712e-06)"
      ]
     },
     "execution_count": 54,
     "metadata": {},
     "output_type": "execute_result"
    }
   ],
   "source": [
    "np.exp(x_zero2) - 3*x_zero2**2, np.exp(x_zero3) - 3*x_zero3**2"
   ]
  },
  {
   "cell_type": "code",
   "execution_count": 47,
   "metadata": {},
   "outputs": [
    {
     "data": {
      "text/plain": [
       "4.999996185302734"
      ]
     },
     "execution_count": 47,
     "metadata": {},
     "output_type": "execute_result"
    }
   ],
   "source": [
    "bisect_eq2(4,5)"
   ]
  },
  {
   "cell_type": "code",
   "execution_count": 48,
   "metadata": {},
   "outputs": [
    {
     "data": {
      "text/plain": [
       "-0.45896053314208984"
      ]
     },
     "execution_count": 48,
     "metadata": {},
     "output_type": "execute_result"
    }
   ],
   "source": [
    "bisect_eq2(-10,10)"
   ]
  },
  {
   "cell_type": "markdown",
   "metadata": {},
   "source": [
    "This works but it could be a lot better.\n",
    "\n",
    "1. What if I want to solve other equations? \n",
    "\n",
    "2. Accuracy is fixed\n",
    "\n",
    "3. Requires the user to put in good numbers, if you accidentaly switch the numbers you'll get a problem. Everything will run fine but xR - xL > 1.0e-5 will return False on the first run so it will just find the mid point of the two inputs\n",
    "\n",
    "        bisect_eq2(0,-1)\n",
    "        -0.5\n",
    "4. What if we got lucky and guessed the exact zero? "
   ]
  },
  {
   "cell_type": "code",
   "execution_count": 2,
   "metadata": {},
   "outputs": [],
   "source": [
    "# %load bisect.py\n",
    "import numpy as np\n",
    "def bisect(func_name, xL, xR):\n",
    "    \"\"\"\n",
    "    Find the solution the input equation f(x) = 0 for some input function. Start\n",
    "    with the interval xL xR, and return a solution with a relative error\n",
    "    0.5e-5.\n",
    "\n",
    "    Inputs\n",
    "    ----------\n",
    "    func_name: This is the name of the function that I want to find roots for\n",
    "\n",
    "    xL:        Smaller 'x' value I want to evaluate func_name at\n",
    "\n",
    "    xR:        Higher 'x' value I want to evaluate func_name at\n",
    "\n",
    "    Output\n",
    "    ----------\n",
    "    x_zero: 'x' value that returns func_name(x) = 0\n",
    "    \"\"\"\n",
    "    fL = func_name(xL)\n",
    "    fR = func_name(xR)\n",
    "    \n",
    "    if fL * fR > 0:     # Same sign on both sides\n",
    "        return print(\"Both values give the same sign.\") #Exit if inputs are wrong\n",
    "\n",
    "    while np.abs( xR - xL ) > 1.0e-5 * np.max(np.abs([xL,xR])):\n",
    "        xMP = 0.5*(xL + xR)\n",
    "        fMP = func_name(xMP)\n",
    "\n",
    "        if fMP == 0:       # Got lucky and found the root exactly\n",
    "            return xMP\n",
    "\n",
    "        if fMP * fR > 0:\n",
    "            xR = xMP\n",
    "            fR = fMP\n",
    "\n",
    "        else:\n",
    "            xL = xMP\n",
    "\n",
    "    x_zero = 0.5 * (xL + xR)\n",
    "\n",
    "    return x_zero\n"
   ]
  },
  {
   "cell_type": "code",
   "execution_count": 1,
   "metadata": {},
   "outputs": [
    {
     "ename": "NameError",
     "evalue": "name 'bisect' is not defined",
     "output_type": "error",
     "traceback": [
      "\u001b[0;31m---------------------------------------------------------------------------\u001b[0m",
      "\u001b[0;31mNameError\u001b[0m                                 Traceback (most recent call last)",
      "\u001b[0;32m<ipython-input-1-f124821647ff>\u001b[0m in \u001b[0;36m<module>\u001b[0;34m()\u001b[0m\n\u001b[0;32m----> 1\u001b[0;31m \u001b[0mbisect\u001b[0m\u001b[0;34m(\u001b[0m\u001b[0mnp\u001b[0m\u001b[0;34m.\u001b[0m\u001b[0mexp\u001b[0m\u001b[0;34m(\u001b[0m\u001b[0my\u001b[0m\u001b[0;34m)\u001b[0m\u001b[0;34m-\u001b[0m\u001b[0;36m3\u001b[0m\u001b[0;34m*\u001b[0m\u001b[0my\u001b[0m\u001b[0;34m**\u001b[0m\u001b[0;36m2\u001b[0m\u001b[0;34m,\u001b[0m \u001b[0;36m1\u001b[0m\u001b[0;34m,\u001b[0m \u001b[0;36m0\u001b[0m\u001b[0;34m)\u001b[0m\u001b[0;34m\u001b[0m\u001b[0m\n\u001b[0m",
      "\u001b[0;31mNameError\u001b[0m: name 'bisect' is not defined"
     ]
    }
   ],
   "source": [
    "bisect(np.exp(y)-3*y**2, 1, 0)"
   ]
  },
  {
   "cell_type": "code",
   "execution_count": 3,
   "metadata": {},
   "outputs": [],
   "source": [
    "# %load equation2.py\n",
    "import numpy as np\n",
    "def equation2(x):\n",
    "    \"\"\"\n",
    "    Equation 2.2 from the book.\n",
    "\n",
    "    Input\n",
    "    ----------\n",
    "    x: Value I want to evaluate equation 2.2 at\n",
    "\n",
    "    Output\n",
    "    ----------\n",
    "    Value of the function at 'x', f(x)\n",
    "    \"\"\"\n",
    "    return np.exp(x) - 3*x**2\n"
   ]
  },
  {
   "cell_type": "code",
   "execution_count": 68,
   "metadata": {},
   "outputs": [],
   "source": [
    "# %load equation3.py\n",
    "import numpy as np\n",
    "def equation3(theta):\n",
    "    \"\"\"\n",
    "    Equation 2.3 from the book.\n",
    "\n",
    "    Input\n",
    "    ----------\n",
    "    theta: Angle that I want to evaluate equation 2.3 at. Input should be in degrees\n",
    "\n",
    "    Output\n",
    "    ----------\n",
    "    Value of the function at theta, f(theta)\n",
    "\n",
    "    \"\"\"\n",
    "    th_rad = np.radians(theta)   # Convert the input into radian\n",
    "\n",
    "    return 250*np.cos(th_rad)* (np.sin(th_rad) + np.sqrt( np.sin(th_rad)**2 + 0.08 ) ) - 200\n"
   ]
  },
  {
   "cell_type": "code",
   "execution_count": 5,
   "metadata": {},
   "outputs": [
    {
     "data": {
      "text/plain": [
       "0.9100074768066406"
      ]
     },
     "execution_count": 5,
     "metadata": {},
     "output_type": "execute_result"
    }
   ],
   "source": [
    "bisect(equation2, 1, 0)"
   ]
  },
  {
   "cell_type": "code",
   "execution_count": 107,
   "metadata": {},
   "outputs": [
    {
     "data": {
      "text/plain": [
       "[<matplotlib.lines.Line2D at 0x7f8974132ba8>]"
      ]
     },
     "execution_count": 107,
     "metadata": {},
     "output_type": "execute_result"
    },
    {
     "data": {
      "image/png": "[encoded data removed]",
      "text/plain": [
       "<Figure size 432x288 with 1 Axes>"
      ]
     },
     "metadata": {},
     "output_type": "display_data"
    }
   ],
   "source": [
    "foo = np.linspace(-40, 50,10000)\n",
    "plt.plot(foo,equation3(foo))"
   ]
  },
  {
   "cell_type": "code",
   "execution_count": 109,
   "metadata": {},
   "outputs": [],
   "source": [
    "ans = bisect(equation3, -40,50)"
   ]
  },
  {
   "cell_type": "code",
   "execution_count": 110,
   "metadata": {},
   "outputs": [
    {
     "data": {
      "text/plain": [
       "0.0001295492541260046"
      ]
     },
     "execution_count": 110,
     "metadata": {},
     "output_type": "execute_result"
    }
   ],
   "source": [
    "equation3(ans)"
   ]
  },
  {
   "cell_type": "markdown",
   "metadata": {},
   "source": [
    "# Machine Precision\n",
    "The computer can only keep track of so many digits"
   ]
  },
  {
   "cell_type": "code",
   "execution_count": 132,
   "metadata": {},
   "outputs": [
    {
     "name": "stdout",
     "output_type": "stream",
     "text": [
      "2.220446049250313e-16\n"
     ]
    }
   ],
   "source": [
    "#Don't worry about this too much, this just tells you what that smallest number is\n",
    "import sys\n",
    "eps = sys.float_info.epsilon\n",
    "print(eps)"
   ]
  },
  {
   "cell_type": "code",
   "execution_count": 147,
   "metadata": {},
   "outputs": [
    {
     "name": "stdout",
     "output_type": "stream",
     "text": [
      "1.000000000000001 1.0\n"
     ]
    }
   ],
   "source": [
    "x = 1\n",
    "y = 0.000000000000001\n",
    "z = 0.0000000000000001\n",
    "print(x+y, x+z)"
   ]
  },
  {
   "cell_type": "code",
   "execution_count": 151,
   "metadata": {},
   "outputs": [
    {
     "name": "stdout",
     "output_type": "stream",
     "text": [
      "10000000000.00001 10000000000.0\n"
     ]
    }
   ],
   "source": [
    "#This is relative error\n",
    "x = 1e10\n",
    "y = 0.000000000000001e10\n",
    "z = 0.00000000000000001e10\n",
    "print(x+y, x+z)"
   ]
  },
  {
   "cell_type": "code",
   "execution_count": null,
   "metadata": {},
   "outputs": [],
   "source": []
  }
 ],
 "metadata": {
  "kernelspec": {
   "display_name": "Python 3",
   "language": "python",
   "name": "python3"
  },
  "language_info": {
   "codemirror_mode": {
    "name": "ipython",
    "version": 3
   },
   "file_extension": ".py",
   "mimetype": "text/x-python",
   "name": "python",
   "nbconvert_exporter": "python",
   "pygments_lexer": "ipython3",
   "version": "3.6.6"
  }
 },
 "nbformat": 4,
 "nbformat_minor": 2
}
