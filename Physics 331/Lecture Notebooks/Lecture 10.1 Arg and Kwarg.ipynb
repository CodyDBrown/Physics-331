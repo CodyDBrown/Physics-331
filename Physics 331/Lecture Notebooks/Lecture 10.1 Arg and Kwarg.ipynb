{
 "cells": [
  {
   "cell_type": "markdown",
   "metadata": {},
   "source": [
    "# Arguments vs. Key word Arguments\n",
    "All of the functions we've made have used arguments for the inputs of the function"
   ]
  },
  {
   "cell_type": "code",
   "execution_count": 1,
   "metadata": {},
   "outputs": [],
   "source": [
    "import numpy as np\n",
    "import matplotlib.pyplot as plt"
   ]
  },
  {
   "cell_type": "code",
   "execution_count": 2,
   "metadata": {},
   "outputs": [],
   "source": [
    "def foo(x, y):\n",
    "    return x + y"
   ]
  },
  {
   "cell_type": "code",
   "execution_count": 3,
   "metadata": {},
   "outputs": [
    {
     "data": {
      "text/plain": [
       "10"
      ]
     },
     "execution_count": 3,
     "metadata": {},
     "output_type": "execute_result"
    }
   ],
   "source": [
    "foo(3, 7)"
   ]
  },
  {
   "cell_type": "markdown",
   "metadata": {},
   "source": [
    "But what if there's one input I keep using over and over again, I want to make it so that the program has a default value for something, but could be changed if I wanted."
   ]
  },
  {
   "cell_type": "code",
   "execution_count": 4,
   "metadata": {},
   "outputs": [],
   "source": [
    "def bar(x, y = 2):\n",
    "    return x+y"
   ]
  },
  {
   "cell_type": "code",
   "execution_count": 5,
   "metadata": {},
   "outputs": [
    {
     "data": {
      "text/plain": [
       "12"
      ]
     },
     "execution_count": 5,
     "metadata": {},
     "output_type": "execute_result"
    }
   ],
   "source": [
    "bar(10)"
   ]
  },
  {
   "cell_type": "code",
   "execution_count": 6,
   "metadata": {},
   "outputs": [
    {
     "data": {
      "text/plain": [
       "7"
      ]
     },
     "execution_count": 6,
     "metadata": {},
     "output_type": "execute_result"
    }
   ],
   "source": [
    "bar(2, 5)"
   ]
  },
  {
   "cell_type": "markdown",
   "metadata": {},
   "source": [
    "y here is a key word argument. Python is picky and requires that any keyword arguments be after positional arguments"
   ]
  },
  {
   "cell_type": "code",
   "execution_count": 7,
   "metadata": {},
   "outputs": [
    {
     "name": "stdout",
     "output_type": "stream",
     "text": [
      "/home/cody/Physics 331/Textbook Programs/Chapter 5\n",
      " baseball.py\r\n",
      " efld.py\r\n",
      " long_ball.py\r\n",
      "\u001b[0m\u001b[01;35m'Lorenz Solutions.png'\u001b[0m\r\n",
      "\u001b[01;31m'Meth of Computational Physics - 10172018 - 1121 AM.zip'\u001b[0m\r\n",
      " pendulum.py\r\n",
      " \u001b[01;34m__pycache__\u001b[0m/\r\n",
      " rk2.py\r\n",
      "'Table of Contents.html'\r\n",
      " tan_vec.py\r\n"
     ]
    }
   ],
   "source": [
    "%cd '/home/cody/Physics 331/Textbook Programs/Chapter 5'\n",
    "%ls"
   ]
  },
  {
   "cell_type": "code",
   "execution_count": 8,
   "metadata": {},
   "outputs": [],
   "source": [
    "# %load rk2.py\n",
    "import numpy as np\n",
    "def rk2_foo(y0, deriv_func, t0 = 0, tf = 10, dt = 0.01):\n",
    "    \"\"\"\n",
    "    General RK2 solver\n",
    "\n",
    "    Inputs\n",
    "    ----------\n",
    "    y0:         Starting 'y' values. y0 Can be an array/list of any number of dimentions\n",
    "    t0, tf:     Initial and Final independent variables\n",
    "    dt:         Step size for the independent variable\n",
    "    deriv_func: Derivative function that I want to solve for\n",
    "\n",
    "    Output\n",
    "    ----------\n",
    "    t:  Array of independent variables\n",
    "    y:  Array of dependent variables values. The first intex corresponds to the time step and the second corresponds to\n",
    "        the dependent variable number\n",
    "    \"\"\"\n",
    "\n",
    "    t = np.arange(t0, tf+dt, dt)\n",
    "    n_steps = len(t)    # Number of steps to take\n",
    "\n",
    "    y = np.zeros((n_steps, len(y0))) #Makes an array of zeros\n",
    "\n",
    "    y[0,:] = y0 #Sets the first row in y to be the initial values.\n",
    "\n",
    "    for n in range(n_steps-1):\n",
    "        f = deriv_func(y[n,:],t[n])\n",
    "        y_star = y[n,:] + 0.5 * dt * f\n",
    "        #Now take the full step\n",
    "        t_star = t[n] + 0.5 * dt\n",
    "        f_star = deriv_func(y_star, t_star)\n",
    "        y[n+1,:] = (y[n,:] + dt*f_star)\n",
    "    return t, y\n"
   ]
  },
  {
   "cell_type": "code",
   "execution_count": 9,
   "metadata": {},
   "outputs": [],
   "source": [
    "# %load baseball.py\n",
    "import numpy as np\n",
    "def baseball(w,t):\n",
    "    \"\"\"\n",
    "    Finds the acceleration of a Baseball with forces from gravity and air resistance.\n",
    "\n",
    "    Inputs\n",
    "    ----------\n",
    "    w:  Array of with the position and velocity of the ball\n",
    "        w[0] = x (m)\n",
    "        w[1] = y (m)\n",
    "        w[2] = v_x (m/s)\n",
    "        w[3] = v_y (m/s)\n",
    "\n",
    "    t:  Dumby variable\n",
    "\n",
    "    Output\n",
    "    ----------\n",
    "    foo: Array of velocities and accelerations\n",
    "         foo[0] = v_x (m/s)\n",
    "         foo[1] = v_y (m/s)\n",
    "         foo[2] = a_x (m/s**2)\n",
    "         foo[3] = a_y (m/s**2)\n",
    "    \"\"\"\n",
    "    g = 9.8     # gravity (m/s**2)\n",
    "    rho = 1.2   # Mass density of air (kg/m**3)\n",
    "    a = 4.16e-3 # cross sectional area of a baseball (m**2)\n",
    "    C_d = 0.5   # Drag coefficient\n",
    "    M = 0.142   # Mass of a baseball (kg)\n",
    "\n",
    "    alpha = 0.5 * rho * a * C_d / M\n",
    "\n",
    "    v_mag = np.sqrt(w[2]**2 + w[3]**2) # Magnitude of the velocity\n",
    "\n",
    "    foo = np.array([w[2], w[3], -alpha*v_mag*w[2], -g - alpha*v_mag * w[3]])\n",
    "    return foo\n"
   ]
  },
  {
   "cell_type": "code",
   "execution_count": 14,
   "metadata": {},
   "outputs": [
    {
     "data": {
      "text/plain": [
       "[<matplotlib.lines.Line2D at 0x7f07cbb9e5c0>]"
      ]
     },
     "execution_count": 14,
     "metadata": {},
     "output_type": "execute_result"
    },
    {
     "data": {
      "image/png": "[encoded data removed]",
      "text/plain": [
       "<Figure size 432x288 with 1 Axes>"
      ]
     },
     "metadata": {},
     "output_type": "display_data"
    }
   ],
   "source": [
    "t, z = rk2_foo([0,0, 10, 20], baseball, tf = 3, dt = 0.0001)\n",
    "plt.plot(z[:,0], z[:,1])"
   ]
  },
  {
   "cell_type": "markdown",
   "metadata": {},
   "source": [
    "What if I don't know how many arguments I'll need? Then I can use,\n",
    "\n",
    "    *args, **kwargs"
   ]
  },
  {
   "cell_type": "code",
   "execution_count": 15,
   "metadata": {},
   "outputs": [
    {
     "name": "stdout",
     "output_type": "stream",
     "text": [
      "/home/cody/Physics 331/Textbook Programs/Chapter 4\n",
      "\u001b[0m\u001b[01;35m'Error vs Run Time.png'\u001b[0m  \u001b[01;35m'Euler vs. RK2.png'\u001b[0m   rk2_1d.py      Untitled.ipynb\r\n",
      " euler_1d.py             'READ ME.txt'         sky_diver.py\r\n"
     ]
    }
   ],
   "source": [
    "%cd '/home/cody/Physics 331/Textbook Programs/Chapter 4'\n",
    "%ls"
   ]
  },
  {
   "cell_type": "code",
   "execution_count": 35,
   "metadata": {},
   "outputs": [],
   "source": [
    "# %load sky_diver.py\n",
    "def sky_diver(v, t, C_d = 5, rho = 1.2, M = 100):\n",
    "    \"\"\"\n",
    "    Acceleration of an object falling from gravity, with air resistance.\n",
    "    dv/dt = g - alpha * v**2\n",
    "\n",
    "    Input\n",
    "    ----------\n",
    "    v:  Velocity of the object\n",
    "\n",
    "    t:  Dumby variable put in so that euler/rk2 can handle it. There should be\n",
    "        away to get rid of this but I don't know what it is yet so for now it stays in\n",
    "\n",
    "    Output\n",
    "    ----------\n",
    "    a: Acceleration for a given velocity\n",
    "\n",
    "    \"\"\"\n",
    "    g = 9.8         # Acceleration from gravity (m/s/s)\n",
    "    #rho = 1.2       # Mass density of the air they're falling in (kg/m**3)\n",
    "    a = 1.0         # cross-sectional area of the sky diver (m**2)\n",
    "    #C_d = 1.0       # coefficient of drag\n",
    "    #M = 100.0       # mass of the diver (kg)\n",
    "    alpha = 0.5 * rho * a * C_d / M\n",
    "    return g - alpha * abs(v)*v\n"
   ]
  },
  {
   "cell_type": "code",
   "execution_count": 36,
   "metadata": {},
   "outputs": [],
   "source": [
    "# %load euler_1d.py\n",
    "import numpy as np\n",
    "def euler_1d_foo(y0, t0, tf, dt, deriv_func, **kwargs):\n",
    "    \"\"\"\n",
    "    Numerically solve the first order ODE deriv_func using Eulers method\n",
    "\n",
    "    Inputs\n",
    "    ----------\n",
    "    y0:         Starting dependent-variable value\n",
    "    t0, tf:     Starting and ending independent-variable value\n",
    "    dt:         Size of the step I want to take.\n",
    "    deriv_func: Function that I am trying to numerically solve.\n",
    "\n",
    "    Outputs\n",
    "    ----------\n",
    "    t: Array of independent-variable values\n",
    "        t = [t[0], t[1], t[2], ..., t[n_steps]]\n",
    "    y: Array of corresponding dependent-variable values\n",
    "        y = [y[0], y[1], y[2], ..., y[n_steps]]\n",
    "    \"\"\"\n",
    "\n",
    "    t = np.arange(t0, tf+dt, dt)   #starts at t0 and makes steps of size dt. Does not\n",
    "                                   #get to tf. It gets as Close as it can to tf, but\n",
    "                                   #will always stop short of it.\n",
    "    n_steps = len(t)        #Number of steps to take\n",
    "    y = np.zeros(n_steps)   #I want to make an array of zeros that I'll then put\n",
    "                            #y-values into. This is a good practice because it\n",
    "                            #forces the computer to allocate enough memory for the\n",
    "                            #final answer and can prevent memory problems\n",
    " \n",
    "    #Set the first element of the array to be our input starting value y0\n",
    "    y[0] = y0\n",
    "    for n in range(n_steps-1):\n",
    "        f = deriv_func(y[n], t[n],**kwargs)  #Evaluate the function f(y,t)\n",
    "        y[n+1] = (y[n] + dt * f)    #This is the Euler's method part.\n",
    "    return t, y"
   ]
  },
  {
   "cell_type": "code",
   "execution_count": 38,
   "metadata": {},
   "outputs": [
    {
     "data": {
      "text/plain": [
       "[<matplotlib.lines.Line2D at 0x7f07cb70e208>]"
      ]
     },
     "execution_count": 38,
     "metadata": {},
     "output_type": "execute_result"
    },
    {
     "data": {
      "image/png": "[encoded data removed]",
      "text/plain": [
       "<Figure size 432x288 with 1 Axes>"
      ]
     },
     "metadata": {},
     "output_type": "display_data"
    }
   ],
   "source": [
    "t, y = euler_1d_foo(0, 0, 10, 0.01, sky_diver,C_d = 100, rho = .5)\n",
    "plt.plot(t, y)"
   ]
  },
  {
   "cell_type": "code",
   "execution_count": 47,
   "metadata": {},
   "outputs": [
    {
     "name": "stdout",
     "output_type": "stream",
     "text": [
      "37\n"
     ]
    }
   ],
   "source": []
  },
  {
   "cell_type": "code",
   "execution_count": null,
   "metadata": {},
   "outputs": [],
   "source": []
  }
 ],
 "metadata": {
  "kernelspec": {
   "display_name": "Python 3",
   "language": "python",
   "name": "python3"
  },
  "language_info": {
   "codemirror_mode": {
    "name": "ipython",
    "version": 3
   },
   "file_extension": ".py",
   "mimetype": "text/x-python",
   "name": "python",
   "nbconvert_exporter": "python",
   "pygments_lexer": "ipython3",
   "version": "3.6.5"
  }
 },
 "nbformat": 4,
 "nbformat_minor": 2
}
