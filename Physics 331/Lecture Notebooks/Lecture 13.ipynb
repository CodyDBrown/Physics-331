{
 "cells": [
  {
   "cell_type": "markdown",
   "metadata": {},
   "source": [
    "# Lecture 13\n",
    "\n",
    "0. No more solving diferential equations!!!\n",
    "1. White board stuff\n",
    "2. pandas, not the cute kind\n",
    "3. chi^2 fitting"
   ]
  },
  {
   "cell_type": "code",
   "execution_count": 1,
   "metadata": {},
   "outputs": [],
   "source": [
    "import pandas as pd\n",
    "import numpy as np\n",
    "import matplotlib.pyplot as plt"
   ]
  },
  {
   "cell_type": "markdown",
   "metadata": {},
   "source": [
    "pandas is the moduel to work with sets of data. These are normally called data frams in pandas"
   ]
  },
  {
   "cell_type": "code",
   "execution_count": 2,
   "metadata": {},
   "outputs": [],
   "source": [
    "x = [1,2,3,4,5,6,7]\n",
    "y = [2,5,2,7,9,2,6]"
   ]
  },
  {
   "cell_type": "code",
   "execution_count": 3,
   "metadata": {},
   "outputs": [],
   "source": [
    "# Making data frames works best with dictionaries\n",
    "data = {\"x\": x, \"y\":y}\n",
    "df = pd.DataFrame(data)"
   ]
  },
  {
   "cell_type": "code",
   "execution_count": 4,
   "metadata": {},
   "outputs": [
    {
     "data": {
      "text/html": [
       "<div>\n",
       "<style scoped>\n",
       "    .dataframe tbody tr th:only-of-type {\n",
       "        vertical-align: middle;\n",
       "    }\n",
       "\n",
       "    .dataframe tbody tr th {\n",
       "        vertical-align: top;\n",
       "    }\n",
       "\n",
       "    .dataframe thead th {\n",
       "        text-align: right;\n",
       "    }\n",
       "</style>\n",
       "<table border=\"1\" class=\"dataframe\">\n",
       "  <thead>\n",
       "    <tr style=\"text-align: right;\">\n",
       "      <th></th>\n",
       "      <th>x</th>\n",
       "      <th>y</th>\n",
       "    </tr>\n",
       "  </thead>\n",
       "  <tbody>\n",
       "    <tr>\n",
       "      <th>0</th>\n",
       "      <td>1</td>\n",
       "      <td>2</td>\n",
       "    </tr>\n",
       "    <tr>\n",
       "      <th>1</th>\n",
       "      <td>2</td>\n",
       "      <td>5</td>\n",
       "    </tr>\n",
       "    <tr>\n",
       "      <th>2</th>\n",
       "      <td>3</td>\n",
       "      <td>2</td>\n",
       "    </tr>\n",
       "    <tr>\n",
       "      <th>3</th>\n",
       "      <td>4</td>\n",
       "      <td>7</td>\n",
       "    </tr>\n",
       "    <tr>\n",
       "      <th>4</th>\n",
       "      <td>5</td>\n",
       "      <td>9</td>\n",
       "    </tr>\n",
       "    <tr>\n",
       "      <th>5</th>\n",
       "      <td>6</td>\n",
       "      <td>2</td>\n",
       "    </tr>\n",
       "    <tr>\n",
       "      <th>6</th>\n",
       "      <td>7</td>\n",
       "      <td>6</td>\n",
       "    </tr>\n",
       "  </tbody>\n",
       "</table>\n",
       "</div>"
      ],
      "text/plain": [
       "   x  y\n",
       "0  1  2\n",
       "1  2  5\n",
       "2  3  2\n",
       "3  4  7\n",
       "4  5  9\n",
       "5  6  2\n",
       "6  7  6"
      ]
     },
     "execution_count": 4,
     "metadata": {},
     "output_type": "execute_result"
    }
   ],
   "source": [
    "df"
   ]
  },
  {
   "cell_type": "code",
   "execution_count": 5,
   "metadata": {},
   "outputs": [
    {
     "data": {
      "text/plain": [
       "[<matplotlib.lines.Line2D at 0x7f78e3e489b0>]"
      ]
     },
     "execution_count": 5,
     "metadata": {},
     "output_type": "execute_result"
    },
    {
     "data": {
      "image/png": "[encoded data removed]",
      "text/plain": [
       "<Figure size 576x576 with 1 Axes>"
      ]
     },
     "metadata": {},
     "output_type": "display_data"
    }
   ],
   "source": [
    "# I can Plot the data\n",
    "plt.figure(figsize = (8,8))\n",
    "plt.plot(df['x'], df['y'], '*', markersize = 14)"
   ]
  },
  {
   "cell_type": "markdown",
   "metadata": {},
   "source": [
    "Most common way to save this data is as a .csv file. (Think excel)"
   ]
  },
  {
   "cell_type": "code",
   "execution_count": 6,
   "metadata": {},
   "outputs": [],
   "source": [
    "df.to_csv(\"foo_data.csv\")"
   ]
  },
  {
   "cell_type": "code",
   "execution_count": 7,
   "metadata": {},
   "outputs": [],
   "source": [
    "# Read in a csv file\n",
    "temp = pd.read_csv(\"temp.csv\")"
   ]
  },
  {
   "cell_type": "code",
   "execution_count": 8,
   "metadata": {},
   "outputs": [
    {
     "data": {
      "text/html": [
       "<div>\n",
       "<style scoped>\n",
       "    .dataframe tbody tr th:only-of-type {\n",
       "        vertical-align: middle;\n",
       "    }\n",
       "\n",
       "    .dataframe tbody tr th {\n",
       "        vertical-align: top;\n",
       "    }\n",
       "\n",
       "    .dataframe thead th {\n",
       "        text-align: right;\n",
       "    }\n",
       "</style>\n",
       "<table border=\"1\" class=\"dataframe\">\n",
       "  <thead>\n",
       "    <tr style=\"text-align: right;\">\n",
       "      <th></th>\n",
       "      <th>Unnamed: 0</th>\n",
       "      <th>x</th>\n",
       "      <th>T</th>\n",
       "      <th>dT</th>\n",
       "    </tr>\n",
       "  </thead>\n",
       "  <tbody>\n",
       "    <tr>\n",
       "      <th>0</th>\n",
       "      <td>1</td>\n",
       "      <td>1</td>\n",
       "      <td>15.6</td>\n",
       "      <td>4.5</td>\n",
       "    </tr>\n",
       "    <tr>\n",
       "      <th>1</th>\n",
       "      <td>2</td>\n",
       "      <td>2</td>\n",
       "      <td>17.5</td>\n",
       "      <td>4.5</td>\n",
       "    </tr>\n",
       "    <tr>\n",
       "      <th>2</th>\n",
       "      <td>3</td>\n",
       "      <td>3</td>\n",
       "      <td>36.6</td>\n",
       "      <td>4.5</td>\n",
       "    </tr>\n",
       "    <tr>\n",
       "      <th>3</th>\n",
       "      <td>4</td>\n",
       "      <td>4</td>\n",
       "      <td>43.8</td>\n",
       "      <td>4.5</td>\n",
       "    </tr>\n",
       "    <tr>\n",
       "      <th>4</th>\n",
       "      <td>5</td>\n",
       "      <td>5</td>\n",
       "      <td>58.2</td>\n",
       "      <td>4.5</td>\n",
       "    </tr>\n",
       "    <tr>\n",
       "      <th>5</th>\n",
       "      <td>6</td>\n",
       "      <td>6</td>\n",
       "      <td>61.6</td>\n",
       "      <td>4.5</td>\n",
       "    </tr>\n",
       "    <tr>\n",
       "      <th>6</th>\n",
       "      <td>7</td>\n",
       "      <td>7</td>\n",
       "      <td>64.2</td>\n",
       "      <td>4.5</td>\n",
       "    </tr>\n",
       "    <tr>\n",
       "      <th>7</th>\n",
       "      <td>8</td>\n",
       "      <td>8</td>\n",
       "      <td>70.4</td>\n",
       "      <td>4.5</td>\n",
       "    </tr>\n",
       "    <tr>\n",
       "      <th>8</th>\n",
       "      <td>9</td>\n",
       "      <td>9</td>\n",
       "      <td>98.8</td>\n",
       "      <td>4.5</td>\n",
       "    </tr>\n",
       "  </tbody>\n",
       "</table>\n",
       "</div>"
      ],
      "text/plain": [
       "   Unnamed: 0  x     T   dT\n",
       "0           1  1  15.6  4.5\n",
       "1           2  2  17.5  4.5\n",
       "2           3  3  36.6  4.5\n",
       "3           4  4  43.8  4.5\n",
       "4           5  5  58.2  4.5\n",
       "5           6  6  61.6  4.5\n",
       "6           7  7  64.2  4.5\n",
       "7           8  8  70.4  4.5\n",
       "8           9  9  98.8  4.5"
      ]
     },
     "execution_count": 8,
     "metadata": {},
     "output_type": "execute_result"
    }
   ],
   "source": [
    "temp"
   ]
  },
  {
   "cell_type": "markdown",
   "metadata": {},
   "source": [
    "The extra Unnamed column is from jumping between the pandas dataframe and the normal csv file, we can get rid of this just by adding,"
   ]
  },
  {
   "cell_type": "code",
   "execution_count": 9,
   "metadata": {},
   "outputs": [],
   "source": [
    "temp = temp[[\"x\", \"T\", \"dT\"]]"
   ]
  },
  {
   "cell_type": "code",
   "execution_count": 10,
   "metadata": {},
   "outputs": [
    {
     "data": {
      "text/html": [
       "<div>\n",
       "<style scoped>\n",
       "    .dataframe tbody tr th:only-of-type {\n",
       "        vertical-align: middle;\n",
       "    }\n",
       "\n",
       "    .dataframe tbody tr th {\n",
       "        vertical-align: top;\n",
       "    }\n",
       "\n",
       "    .dataframe thead th {\n",
       "        text-align: right;\n",
       "    }\n",
       "</style>\n",
       "<table border=\"1\" class=\"dataframe\">\n",
       "  <thead>\n",
       "    <tr style=\"text-align: right;\">\n",
       "      <th></th>\n",
       "      <th>x</th>\n",
       "      <th>T</th>\n",
       "      <th>dT</th>\n",
       "    </tr>\n",
       "  </thead>\n",
       "  <tbody>\n",
       "    <tr>\n",
       "      <th>0</th>\n",
       "      <td>1</td>\n",
       "      <td>15.6</td>\n",
       "      <td>4.5</td>\n",
       "    </tr>\n",
       "    <tr>\n",
       "      <th>1</th>\n",
       "      <td>2</td>\n",
       "      <td>17.5</td>\n",
       "      <td>4.5</td>\n",
       "    </tr>\n",
       "    <tr>\n",
       "      <th>2</th>\n",
       "      <td>3</td>\n",
       "      <td>36.6</td>\n",
       "      <td>4.5</td>\n",
       "    </tr>\n",
       "    <tr>\n",
       "      <th>3</th>\n",
       "      <td>4</td>\n",
       "      <td>43.8</td>\n",
       "      <td>4.5</td>\n",
       "    </tr>\n",
       "    <tr>\n",
       "      <th>4</th>\n",
       "      <td>5</td>\n",
       "      <td>58.2</td>\n",
       "      <td>4.5</td>\n",
       "    </tr>\n",
       "    <tr>\n",
       "      <th>5</th>\n",
       "      <td>6</td>\n",
       "      <td>61.6</td>\n",
       "      <td>4.5</td>\n",
       "    </tr>\n",
       "    <tr>\n",
       "      <th>6</th>\n",
       "      <td>7</td>\n",
       "      <td>64.2</td>\n",
       "      <td>4.5</td>\n",
       "    </tr>\n",
       "    <tr>\n",
       "      <th>7</th>\n",
       "      <td>8</td>\n",
       "      <td>70.4</td>\n",
       "      <td>4.5</td>\n",
       "    </tr>\n",
       "    <tr>\n",
       "      <th>8</th>\n",
       "      <td>9</td>\n",
       "      <td>98.8</td>\n",
       "      <td>4.5</td>\n",
       "    </tr>\n",
       "  </tbody>\n",
       "</table>\n",
       "</div>"
      ],
      "text/plain": [
       "   x     T   dT\n",
       "0  1  15.6  4.5\n",
       "1  2  17.5  4.5\n",
       "2  3  36.6  4.5\n",
       "3  4  43.8  4.5\n",
       "4  5  58.2  4.5\n",
       "5  6  61.6  4.5\n",
       "6  7  64.2  4.5\n",
       "7  8  70.4  4.5\n",
       "8  9  98.8  4.5"
      ]
     },
     "execution_count": 10,
     "metadata": {},
     "output_type": "execute_result"
    }
   ],
   "source": [
    "temp"
   ]
  },
  {
   "cell_type": "code",
   "execution_count": 11,
   "metadata": {},
   "outputs": [
    {
     "data": {
      "image/png": "[encoded data removed]",
      "text/plain": [
       "<Figure size 576x576 with 1 Axes>"
      ]
     },
     "metadata": {},
     "output_type": "display_data"
    }
   ],
   "source": [
    "plt.figure(figsize = (8,8))\n",
    "plt.errorbar(temp['x'], temp['T'], yerr = temp['dT'], fmt = 'x')\n",
    "plt.title(\"Test Data\")\n",
    "plt.xlabel('x')\n",
    "plt.ylabel('Temp')\n",
    "plt.show()"
   ]
  },
  {
   "cell_type": "code",
   "execution_count": 12,
   "metadata": {},
   "outputs": [],
   "source": [
    "# %load '/home/cody/Physics 331/Textbook Programs/Chapter 7/linfit.py'\n",
    "def linfit(x, y, sigma_y):\n",
    "    \"\"\"\n",
    "    This function will make a least-squares fit to some data with a straight line\n",
    "    f(x) = a + b*x\n",
    "\n",
    "    Inputs\n",
    "    ----------\n",
    "    x:          Independent variable\n",
    "\n",
    "    y:          Dependent variable\n",
    "\n",
    "    sigma_y:    Array of uncertainties in the dependent variable\n",
    "\n",
    "    Output\n",
    "    ----------\n",
    "    fitpar: Array of fit parameters\n",
    "            fitpar[0]: y intercept (a)\n",
    "            fitpar[1]: uncertainty in y intercept\n",
    "            fitpar[2]: slope (b)\n",
    "            fitpar[3]: uncertainty in slope\n",
    "            fitpar[4]: reduced chi-squared\n",
    "    \"\"\"\n",
    "    npar = 2            # Number of fitting parameters.\n",
    "    npts = len(x)       # Number of data points\n",
    "\n",
    "    if npts < npar:\n",
    "        print(\"Not enough data points to fit a first order polynomial\")\n",
    "        return\n",
    "\n",
    "    if npts != len(y) or npts != len(sigma_y):\n",
    "        print(\"Lengths of the inputs must be the same. len(x) = {}, len(y) = {},\"\n",
    "              \"len(sigma_y) = {}\".format(len(x),len(y), len(sigma_y)))\n",
    "        return\n",
    "\n",
    "    # Make sure everything is a np.array that'll make the math easier\n",
    "    x = np.array(x)\n",
    "    y = np.array(y)\n",
    "    sigma_y = np.array(sigma_y)\n",
    "\n",
    "    sw = sum(1 / sigma_y**2)\n",
    "    sy = sum(y / sigma_y**2)\n",
    "    sx = sum(x / sigma_y**2)\n",
    "    sx2= sum(x**2 / sigma_y**2)\n",
    "    sxy= sum(y*x / sigma_y**2)\n",
    "\n",
    "    #Find the fit parameters\n",
    "    Delta = sw*sx2 - sx*sx\n",
    "    a = (sx2*sy - sx*sxy) / Delta\n",
    "    b = (sxy*sw - sx*sy) / Delta\n",
    "    da = np.sqrt(sx2 / Delta)\n",
    "    db = np.sqrt(sw / Delta)\n",
    "\n",
    "    fit = a + b*x\n",
    "    chi2 = sum(( (y - fit) / sigma_y)**2)\n",
    "    if npts > npar:\n",
    "        chi2red = chi2 / (npts - npar)\n",
    "    else:\n",
    "        chi2red = 0\n",
    "\n",
    "    return [a, da, b, db, chi2red]\n"
   ]
  },
  {
   "cell_type": "code",
   "execution_count": 15,
   "metadata": {},
   "outputs": [],
   "source": [
    "def plotfit():\n",
    "    data = pd.read_csv(\"/home/cody/Physics 331/Lecture Notebooks/temp.csv\")\n",
    "    x = data['x'].values\n",
    "    T = data['T'].values\n",
    "    dT = data['dT'].values\n",
    "    if len(x) != len(T) or len(x) != len(dT):\n",
    "        return print(\"Arrays must be the same length\")\n",
    "    fitpar = linfit(x, T, dT)\n",
    "    xfit = np.array([x[0], x[-1]])\n",
    "    yfit = fitpar[0] + fitpar[2]*xfit\n",
    "    \n",
    "    plt.figure(figsize = (10,8))\n",
    "    plt.errorbar(x, T, yerr = dT, fmt = '.', label = \"Data\")\n",
    "    plt.plot(xfit, yfit, label = \"a = {}, b = {}, $\\chi^2$ = {}\".format(fitpar[0], fitpar[2], fitpar[4]))\n",
    "    plt.legend(loc = 2)"
   ]
  },
  {
   "cell_type": "code",
   "execution_count": 16,
   "metadata": {},
   "outputs": [
    {
     "data": {
      "image/png": "[encoded data removed]",
      "text/plain": [
       "<Figure size 720x576 with 1 Axes>"
      ]
     },
     "metadata": {},
     "output_type": "display_data"
    }
   ],
   "source": [
    "plotfit()"
   ]
  },
  {
   "cell_type": "markdown",
   "metadata": {},
   "source": [
    "# Monte Carlo Stuff"
   ]
  },
  {
   "cell_type": "code",
   "execution_count": 20,
   "metadata": {},
   "outputs": [
    {
     "data": {
      "text/plain": [
       "3.141329"
      ]
     },
     "execution_count": 20,
     "metadata": {},
     "output_type": "execute_result"
    }
   ],
   "source": [
    "darts = 4000000\n",
    "x = np.random.uniform(-1,1,darts)\n",
    "y = np.random.uniform(-1,1,darts)\n",
    "hit = 0\n",
    "for n in range(len(x)):\n",
    "    if np.sqrt(x[n]**2 + y[n]**2) < 1:\n",
    "        hit += 1\n",
    "4*hit/darts"
   ]
  },
  {
   "cell_type": "code",
   "execution_count": null,
   "metadata": {},
   "outputs": [],
   "source": []
  }
 ],
 "metadata": {
  "kernelspec": {
   "display_name": "Python 3",
   "language": "python",
   "name": "python3"
  },
  "language_info": {
   "codemirror_mode": {
    "name": "ipython",
    "version": 3
   },
   "file_extension": ".py",
   "mimetype": "text/x-python",
   "name": "python",
   "nbconvert_exporter": "python",
   "pygments_lexer": "ipython3",
   "version": "3.6.5"
  }
 },
 "nbformat": 4,
 "nbformat_minor": 2
}
