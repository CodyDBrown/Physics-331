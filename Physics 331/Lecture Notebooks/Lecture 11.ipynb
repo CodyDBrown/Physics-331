{
 "cells": [
  {
   "cell_type": "markdown",
   "metadata": {},
   "source": [
    "# Scipy.integrate\n",
    "There's a lot of different integration methods that we wont get around to covering."
   ]
  },
  {
   "cell_type": "code",
   "execution_count": 1,
   "metadata": {},
   "outputs": [],
   "source": [
    "import numpy as np\n",
    "import matplotlib.pyplot as plt\n",
    "import scipy.integrate"
   ]
  },
  {
   "cell_type": "code",
   "execution_count": 32,
   "metadata": {},
   "outputs": [],
   "source": [
    "def dNdt(t, N):\n",
    "    \"\"\"\n",
    "    Differential equation for radioactive decay dN/dt = -lamda*N\n",
    "    \n",
    "    Inputs\n",
    "    ----------\n",
    "    N:  Number of atoms\n",
    "    t:  time\n",
    "    \n",
    "    Output\n",
    "    ----------\n",
    "    dN/dt:  Right hand side of the differential we want to solve\n",
    "    \"\"\"\n",
    "    lam = 3.9e-12 #Decay constant for Carbon 14 half life of about 5700 years (s**-1)\n",
    "    return -lam*N"
   ]
  },
  {
   "cell_type": "code",
   "execution_count": 33,
   "metadata": {},
   "outputs": [],
   "source": [
    "num_of_atoms = 6.022e23 #Number of atoms I want to start with (1 mole)\n",
    "year = 3.154e7 #Number of seconds in a year\n",
    "t_final = 50000*year #How long I want to wait for this to decay. (0,000 Years) (s)\n",
    "\n",
    "f = scipy.integrate.solve_ivp(dNdt, (0, t_final), [num_of_atoms])"
   ]
  },
  {
   "cell_type": "code",
   "execution_count": 38,
   "metadata": {},
   "outputs": [],
   "source": [
    "f = scipy.integrate.solve_ivp(dNdt, (0, t_final), [num_of_atoms], method='LSODA')\n",
    "g = scipy.integrate.solve_ivp(dNdt, (0, t_final), [num_of_atoms], method='RK45')"
   ]
  },
  {
   "cell_type": "code",
   "execution_count": 36,
   "metadata": {},
   "outputs": [
    {
     "name": "stdout",
     "output_type": "stream",
     "text": [
      "454 µs ± 3.92 µs per loop (mean ± std. dev. of 7 runs, 1000 loops each)\n",
      "1.48 ms ± 5.35 µs per loop (mean ± std. dev. of 7 runs, 1000 loops each)\n"
     ]
    }
   ],
   "source": [
    "%timeit scipy.integrate.solve_ivp(dNdt, (0, t_final), [num_of_atoms], method='LSODA')\n",
    "%timeit scipy.integrate.solve_ivp(dNdt, (0, t_final), [num_of_atoms], method='RK45')"
   ]
  },
  {
   "cell_type": "code",
   "execution_count": 41,
   "metadata": {},
   "outputs": [
    {
     "data": {
      "text/plain": [
       "[<matplotlib.lines.Line2D at 0x7fd88e043898>]"
      ]
     },
     "execution_count": 41,
     "metadata": {},
     "output_type": "execute_result"
    },
    {
     "data": {
      "image/png": "[encoded data removed]",
      "text/plain": [
       "<Figure size 432x288 with 1 Axes>"
      ]
     },
     "metadata": {},
     "output_type": "display_data"
    }
   ],
   "source": [
    "plt.plot(f.t, f.y[0])\n",
    "plt.plot(g.t, g.y[0])"
   ]
  },
  {
   "cell_type": "code",
   "execution_count": 40,
   "metadata": {},
   "outputs": [
    {
     "data": {
      "text/plain": [
       "(24, 24)"
      ]
     },
     "execution_count": 40,
     "metadata": {},
     "output_type": "execute_result"
    }
   ],
   "source": [
    "len(f.t),len(g.t)"
   ]
  },
  {
   "cell_type": "code",
   "execution_count": null,
   "metadata": {},
   "outputs": [],
   "source": [
    "g = scipy.integrate."
   ]
  }
 ],
 "metadata": {
  "kernelspec": {
   "display_name": "Python 3",
   "language": "python",
   "name": "python3"
  },
  "language_info": {
   "codemirror_mode": {
    "name": "ipython",
    "version": 3
   },
   "file_extension": ".py",
   "mimetype": "text/x-python",
   "name": "python",
   "nbconvert_exporter": "python",
   "pygments_lexer": "ipython3",
   "version": "3.6.5"
  }
 },
 "nbformat": 4,
 "nbformat_minor": 2
}
