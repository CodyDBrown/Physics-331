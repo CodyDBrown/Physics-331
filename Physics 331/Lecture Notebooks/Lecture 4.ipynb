{
 "cells": [
  {
   "cell_type": "markdown",
   "metadata": {},
   "source": [
    "# Lecture 4 Notebook\n",
    "\n",
    "1. White board stuff\n",
    "2. Newtons method.\n",
    "3. Why two methods? "
   ]
  },
  {
   "cell_type": "code",
   "execution_count": null,
   "metadata": {},
   "outputs": [],
   "source": [
    "import numpy as np\n",
    "import matplotlib.pyplot as plt"
   ]
  },
  {
   "cell_type": "code",
   "execution_count": null,
   "metadata": {},
   "outputs": [],
   "source": [
    "%cd '/home/cody/Physics 331/Textbook Programs/Chapter 2'\n",
    "%ls"
   ]
  },
  {
   "cell_type": "code",
   "execution_count": null,
   "metadata": {},
   "outputs": [],
   "source": [
    "# %load newton.py\n",
    "def newton(func_name, deriv_name, x_guess):\n",
    "    \"\"\"\n",
    "    Finds the roots of the input function func_name using newtons method\n",
    "\n",
    "    Inputs\n",
    "    ----------\n",
    "    function_name:  Name of the function that we want to solve for. This should\n",
    "                    either be a built in function or a .py file name.\n",
    "\n",
    "    deriv_name:     Name of the derivative of function_name\n",
    "\n",
    "    x_guess:        Newton's Method needs and Initial guess at the solutions.\n",
    "                    Doesn't have to be a good guess. But the better the guess the\n",
    "                    faster you'll get to the correct answer\n",
    "\n",
    "    Output\n",
    "    ----------\n",
    "    x_zero: Returns the value that gives f(x_zero) = 0\n",
    "    \"\"\"\n",
    "\n",
    "    #Start by setting x_zero equal to my initial guess\n",
    "    x_zero = x_guess\n",
    "\n",
    "    for i in range(20):\n",
    "        f = func_name(x_zero)\n",
    "        fp = deriv_name(x_zero)\n",
    "        delta_x = -f/fp\n",
    "        x_zero += delta_x   #This is the same as x_zero = x_zero + delta_x\n",
    "\n",
    "        #If x_zero is within the tolerance then we can return the answer and quit\n",
    "        if abs(delta_x) < 0.5e-5 * abs(x_zero):\n",
    "            return x_zero\n",
    "\n",
    "    #If we didn't find an accurate answer after 20 tries, we say it's good enough\n",
    "    #and return what ever answer we have. Remember it’s possible to get stuck in\n",
    "    #an infinite loop with Newton’s method so having an emergency exit built into\n",
    "    #the code is a good idea.\n",
    "    print(\"Closest answer after 20 tries is\", x_zero)\n",
    "    return x_zero\n"
   ]
  },
  {
   "cell_type": "markdown",
   "metadata": {},
   "source": [
    "# Example \n",
    "I have 2 point charges on the x-axis, and I want to know where the electric field will be zero between them.\n",
    "The location and charge of each object is,\n",
    "    \n",
    "   q_a =  10 $n$C, x_a =  0\n",
    "   \n",
    "   q_b =   5 $n$C, x_b = -10 cm\n",
    "   "
   ]
  },
  {
   "cell_type": "markdown",
   "metadata": {},
   "source": [
    "It's always good to start with a simple case, so lets write a function that finds the electric field from just one point charge to start with."
   ]
  },
  {
   "cell_type": "code",
   "execution_count": null,
   "metadata": {},
   "outputs": [],
   "source": [
    "def e_field1(r):\n",
    "    \"\"\"\n",
    "    Finds the electric field at one point for a point charge at x0\n",
    "    \n",
    "    Inputs\n",
    "    ----------\n",
    "    r:  Where I want to know the strength of the electric field.\n",
    "    \n",
    "    Output:\n",
    "    \n",
    "    E:  Electric field at point r (N/C)\n",
    "    \"\"\"\n",
    "    k = 8.99e9 #1/(4pi eps_0) (N*m^2/C^2)\n",
    "    x0 = 0     #Possition of the charce (m)\n",
    "    R = r - x0 #Distance between the charge and where I want to know E\n",
    "    q = 10e-9  #Strength of the charge (C)\n",
    "    return k*q/R**3*abs(R)"
   ]
  },
  {
   "cell_type": "code",
   "execution_count": null,
   "metadata": {},
   "outputs": [],
   "source": [
    "#Make a plot to make sure it works\n",
    "x = np.linspace(-.1,.1,1000)\n",
    "plt.figure(figsize = (10,10))\n",
    "\n",
    "plt.plot(x,e_field1(x),'x')\n",
    "plt.xlabel('Distance (cm)')\n",
    "plt.ylabel('Electric Field (N/C)')\n",
    "plt.title('Electric field for a point charge')\n",
    "plt.ylim(-1e6,1e6)\n",
    "plt.show()"
   ]
  },
  {
   "cell_type": "markdown",
   "metadata": {},
   "source": [
    "Does this look reasonable? What direction should the field be pointing to the left and to the right for a possitive charge? What if we had a negative charge? "
   ]
  },
  {
   "cell_type": "code",
   "execution_count": null,
   "metadata": {},
   "outputs": [],
   "source": [
    "def e_field2(r):\n",
    "    \"\"\"\n",
    "    Finds the electric field at one point for a point charge at x0\n",
    "    \n",
    "    Inputs\n",
    "    ----------\n",
    "    r:  Where I want to know the strength of the electric field.\n",
    "    \n",
    "    Output:\n",
    "    \n",
    "    E:  Electric field at point r (N*C)\n",
    "    \"\"\"\n",
    "    k = 8.99e9 #1/(4pi eps_0) (N*m^2/C^2)\n",
    "    x0 = -10e-2 #Possition of the charge (m)\n",
    "    R = r - x0\n",
    "    q = 5e-9  #Charge (C)\n",
    "    return k*q/R**3*abs(R)"
   ]
  },
  {
   "cell_type": "code",
   "execution_count": null,
   "metadata": {},
   "outputs": [],
   "source": [
    "#Make a plot for each charge \n",
    "x = np.linspace(-15e-2,15e-2,1000)\n",
    "plt.figure(figsize = (10,10))\n",
    "\n",
    "plt.plot(x, e_field1(x), 'x', 0,0, 'D', color = 'C0', label = 'Charge A')\n",
    "plt.plot(x, e_field2(x), '.', -10e-2, 0, 'D', color = 'C1', label = 'Charge B')\n",
    "plt\n",
    "plt.xlabel('Distance (m)')\n",
    "plt.ylabel('Electric Field (N/C)')\n",
    "plt.title('Electric field for 2 point charges')\n",
    "plt.ylim(-1e6,1e6)\n",
    "plt.legend()\n",
    "plt.show()"
   ]
  },
  {
   "cell_type": "markdown",
   "metadata": {},
   "source": [
    "I want to have one plot for the total electric field,"
   ]
  },
  {
   "cell_type": "code",
   "execution_count": null,
   "metadata": {},
   "outputs": [],
   "source": [
    "def e_field_total(r):\n",
    "    \"\"\"\n",
    "    Finds the electric field from charge A and B\n",
    "    \n",
    "    Inputs\n",
    "    ----------\n",
    "    r:  Where I want to know the strength of the electric field.\n",
    "    \n",
    "    Output:\n",
    "    \n",
    "    E:  Electric field at point r (N*C)\n",
    "    \"\"\"\n",
    "    return e_field1(r) + e_field2(r) "
   ]
  },
  {
   "cell_type": "code",
   "execution_count": null,
   "metadata": {},
   "outputs": [],
   "source": [
    "#Make a plot to make sure it works\n",
    "r = np.linspace(-25e-2,25e-2,1000)\n",
    "plt.figure(figsize = (10,10))\n",
    "\n",
    "plt.plot(r,e_field_total(r),'x')\n",
    "plt.xlabel('Distance (m)')\n",
    "plt.ylabel('Electric Field (N/C)')\n",
    "plt.title('Total Electric field for charge A and B')\n",
    "plt.ylim(-1e6,1e6)\n",
    "plt.show()"
   ]
  },
  {
   "cell_type": "markdown",
   "metadata": {},
   "source": [
    "Hard to tell where the zeros are looking at this so lets plot different regions in their own plots and see how it looks,"
   ]
  },
  {
   "cell_type": "code",
   "execution_count": null,
   "metadata": {},
   "outputs": [],
   "source": [
    "fig, (ax1,ax2,ax3) = plt.subplots(1,3, figsize = (20,10))\n",
    "\n",
    "r1 = np.linspace(-15e-2,-10e-2,1000)\n",
    "ax1.plot(r1, e_field_total(r1))\n",
    "ax1.set_ylim(-1e6,1e6)\n",
    "\n",
    "r2 = np.linspace(-10e-2, 0,1000)\n",
    "ax2.plot(r2, e_field_total(r2))\n",
    "ax2.set_ylim(-1e6,1e6)\n",
    "\n",
    "r3 = np.linspace(0, 10e-2,1000)\n",
    "ax3.plot(r3, e_field_total(r3))\n",
    "ax3.set_ylim(-1e6,1e6)\n",
    "plt.show()"
   ]
  },
  {
   "cell_type": "markdown",
   "metadata": {},
   "source": [
    "Now to use Newtons method we need to find the derivative of the function, but these are absolute values around and that can make finding the derivative a little difficult. But I only need the derivative in the middle region."
   ]
  },
  {
   "cell_type": "code",
   "execution_count": null,
   "metadata": {},
   "outputs": [],
   "source": [
    "def e_field_deriv1(r):\n",
    "    \"\"\"\n",
    "    Finds the electric field at one point for a point charge at x0\n",
    "    \n",
    "    Inputs\n",
    "    ----------\n",
    "    r:  Where I want to know the strength of the electric field.\n",
    "    \n",
    "    Output:\n",
    "    \n",
    "    E:  Electric field at point r (N*C)\n",
    "    \"\"\"\n",
    "    k = 8.99e9 #1/(4pi eps_0) (N*m^2/C^2)\n",
    "    x0 = 0\n",
    "    q = 10e-9\n",
    "    R = r - x0\n",
    "    return -2*k*q/R**4*abs(R)\n",
    "\n",
    "def e_field_deriv2(r):\n",
    "    \"\"\"\n",
    "    Finds the electric field at one point for a point charge at x0\n",
    "    \n",
    "    Inputs\n",
    "    ----------\n",
    "    r:  Where I want to know the strength of the electric field.\n",
    "    \n",
    "    Output:\n",
    "    \n",
    "    E:  Electric field at point r (N*C)\n",
    "    \"\"\"\n",
    "    k = 8.99e9 #1/(4pi eps_0) (N*m^2/C^2)\n",
    "    x0 = -10e-2\n",
    "    q = 5e-9\n",
    "    R = r - x0\n",
    "    return -2*k*q/R**4*abs(R)\n",
    "\n",
    "def e_deriv_total(r):\n",
    "    return e_field_deriv1(r) + e_field_deriv2(r)"
   ]
  },
  {
   "cell_type": "code",
   "execution_count": null,
   "metadata": {},
   "outputs": [],
   "source": [
    "#Make a plot to make sure it works\n",
    "r = np.linspace(-20e-2,15e-2,10000)\n",
    "plt.figure(figsize = (10,10))\n",
    "\n",
    "plt.plot(r,e_field_total(r),'x', label = 'Electric field')\n",
    "plt.plot(r, e_deriv_total(r),'.', label = 'Derivative of Electric field')\n",
    "plt.xlabel('Distance (cm)')\n",
    "plt.ylabel('Electric Field (N/C)')\n",
    "plt.legend()\n",
    "plt.ylim(-1e8,1e8)\n",
    "plt.show()"
   ]
  },
  {
   "cell_type": "code",
   "execution_count": null,
   "metadata": {},
   "outputs": [],
   "source": [
    "# %load newton.py\n",
    "def newton(func_name, deriv_name, x_guess):\n",
    "    \"\"\"\n",
    "    Finds the roots of the input function func_name using newtons method\n",
    "\n",
    "    Inputs\n",
    "    ----------\n",
    "    function_name:  Name of the function that we want to solve for. This should\n",
    "                    either be a built in function or a .py file name.\n",
    "\n",
    "    deriv_name:     Name of the derivative of function_name\n",
    "\n",
    "    x_guess:        Newton's Method needs and Initial guess at the solutions.\n",
    "                    Doesn't have to be a good guess. But the better the guess the\n",
    "                    faster you'll get to the correct answer\n",
    "\n",
    "    Output\n",
    "    ----------\n",
    "    x_zero: Returns the value that gives f(x_zero) = 0\n",
    "    \"\"\"\n",
    "\n",
    "    #Start by setting x_zero equal to my initial guess\n",
    "    x_zero = x_guess\n",
    "\n",
    "    for i in range(20):\n",
    "        f = func_name(x_zero)\n",
    "        fp = deriv_name(x_zero)\n",
    "        delta_x = -f/fp\n",
    "        x_zero += delta_x   #This is the same as x_zero = x_zero + delta_x\n",
    "\n",
    "        #If x_zero is within the tolerance then we can return the answer and quit\n",
    "        if abs(delta_x) < 0.5e-5 * abs(x_zero):\n",
    "            return x_zero\n",
    "\n",
    "    #If we didn't find an accurate answer after 20 tries, we say it's good enough\n",
    "    #and return what ever answer we have. Remember it’s possible to get stuck in\n",
    "    #an infinite loop with Newton’s method so having an emergency exit built into\n",
    "    #the code is a good idea.\n",
    "    print(\"Closest answer after 20 tries is\", x_zero)\n",
    "    return x_zero\n"
   ]
  },
  {
   "cell_type": "code",
   "execution_count": null,
   "metadata": {},
   "outputs": [],
   "source": [
    "x_zero = newton(e_field_total, e_deriv_total, -0.06)\n",
    "print(x_zero)"
   ]
  },
  {
   "cell_type": "code",
   "execution_count": null,
   "metadata": {},
   "outputs": [],
   "source": [
    "e_field_total(x_zero)"
   ]
  },
  {
   "cell_type": "markdown",
   "metadata": {},
   "source": [
    "Lets try a few different guesses to see how our answer changes."
   ]
  },
  {
   "cell_type": "code",
   "execution_count": null,
   "metadata": {},
   "outputs": [],
   "source": [
    "x_zero1 = newton(e_field_total, e_deriv_total, -0.07)\n",
    "x_zero2 = newton(e_field_total, e_deriv_total, -0.05)\n",
    "x_zero3 = newton(e_field_total, e_deriv_total, -0.01)\n",
    "x_zero4 = newton(e_field_total, e_deriv_total,  0.01)\n",
    "print(x_zero1,'\\n',x_zero2,'\\n',x_zero3, '\\n',x_zero4)"
   ]
  },
  {
   "cell_type": "code",
   "execution_count": null,
   "metadata": {},
   "outputs": [],
   "source": [
    "e_field_total(x_zero1), e_field_total(x_zero2), e_field_total(x_zero3), e_field_total(x_zero4)"
   ]
  },
  {
   "cell_type": "markdown",
   "metadata": {},
   "source": [
    "## Why this way?\n",
    "Lets go back and look at a simpler example of equation 2 in the book we used last week"
   ]
  },
  {
   "cell_type": "code",
   "execution_count": null,
   "metadata": {},
   "outputs": [],
   "source": [
    "# %load bisect.py\n",
    "import numpy as np\n",
    "def bisect(func_name, xL, xR):\n",
    "    \"\"\"\n",
    "    Find the solution the input equation f(x) = 0 for some input function. Start\n",
    "    with the interval xL xR, and return a solution with a relative error\n",
    "    0.5e-5.\n",
    "\n",
    "    Inputs\n",
    "    ----------\n",
    "    func_name: This is the name of the function that I want to find roots for\n",
    "\n",
    "    xL:        Smaller 'x' value I want to evaluate func_name at\n",
    "\n",
    "    xR:        Higher 'x' value I want to evaluate func_name at\n",
    "\n",
    "    Output\n",
    "    ----------\n",
    "    x_zero: 'x' value that returns func_name(x) = 0\n",
    "    \"\"\"\n",
    "    fL = func_name(xL)\n",
    "    fR = func_name(xR)\n",
    "    #print(\"Function at the left: {} \\nFunction at the right: {} \".format(fL, fR))\n",
    "    if fL * fR > 0:     # Same sign on both sides\n",
    "        return print(\"Both values give the same sign.\") #Exit if inputs are wrong\n",
    "\n",
    "    while np.abs( xR - xL ) > 1.0e-5 * np.max(np.abs([xL,xR])):\n",
    "        xMP = 0.5*(xL + xR)\n",
    "        fMP = func_name(xMP)\n",
    "\n",
    "        if fMP == 0:       # Got lucky and found the root exactly\n",
    "            return xMP\n",
    "\n",
    "        if fMP * fR > 0:\n",
    "            xR = xMP\n",
    "            fR = fMP\n",
    "\n",
    "        else:\n",
    "            xL = xMP\n",
    "            fL = fMP\n",
    "    x_zero = 0.5 * (xL + xR)\n",
    "\n",
    "    return x_zero\n"
   ]
  },
  {
   "cell_type": "code",
   "execution_count": null,
   "metadata": {},
   "outputs": [],
   "source": [
    "# %load equation2.py\n",
    "import numpy as np\n",
    "def equation2(x):\n",
    "    \"\"\"\n",
    "    Equation 2.2 from the book.\n",
    "\n",
    "    Input\n",
    "    ----------\n",
    "    x: Value I want to evaluate equation 2.2 at\n",
    "\n",
    "    Output\n",
    "    ----------\n",
    "    Value of the function at 'x', f(x)\n",
    "    \"\"\"\n",
    "    return np.exp(x) - 3*x**2\n"
   ]
  },
  {
   "cell_type": "code",
   "execution_count": null,
   "metadata": {},
   "outputs": [],
   "source": [
    "def deriv_eq2(x):\n",
    "    return np.exp(x) - 6*x"
   ]
  },
  {
   "cell_type": "code",
   "execution_count": null,
   "metadata": {},
   "outputs": [],
   "source": [
    "x_zero_n = newton(equation2, deriv_eq2, -.1)\n",
    "x_zero_n"
   ]
  },
  {
   "cell_type": "code",
   "execution_count": null,
   "metadata": {},
   "outputs": [],
   "source": [
    "equation2(x_zero_n)"
   ]
  },
  {
   "cell_type": "code",
   "execution_count": null,
   "metadata": {},
   "outputs": [],
   "source": [
    "x_zero_b = bisect(equation2, -1,0)\n",
    "x_zero_b"
   ]
  },
  {
   "cell_type": "code",
   "execution_count": null,
   "metadata": {},
   "outputs": [],
   "source": [
    "equation2(x_zero_b)"
   ]
  },
  {
   "cell_type": "code",
   "execution_count": null,
   "metadata": {},
   "outputs": [],
   "source": [
    "#How similar are the answers?\n",
    "x_zero_b - x_zero_n"
   ]
  },
  {
   "cell_type": "markdown",
   "metadata": {},
   "source": [
    "These seem to work more or less the exact same, but with newton we can't really control what zero we will find"
   ]
  },
  {
   "cell_type": "code",
   "execution_count": null,
   "metadata": {},
   "outputs": [],
   "source": [
    "guesses = np.linspace(-5,5,100)"
   ]
  },
  {
   "cell_type": "code",
   "execution_count": null,
   "metadata": {},
   "outputs": [],
   "source": [
    "for g in guesses:\n",
    "    print('When our guess was {:.3f} the zero found was, {}'.format(g,newton(equation2, deriv_eq2, g)))"
   ]
  },
  {
   "cell_type": "markdown",
   "metadata": {},
   "source": [
    "With bisect I can make sure it finds the zero I want to find. \n",
    "\n",
    "But what about speed?"
   ]
  },
  {
   "cell_type": "code",
   "execution_count": null,
   "metadata": {},
   "outputs": [],
   "source": [
    "%timeit newton(equation2, deriv_eq2, -.1)\n",
    "%timeit bisect(equation2, -1,0)"
   ]
  },
  {
   "cell_type": "markdown",
   "metadata": {},
   "source": [
    "Newton will normaly be faster, but not always,"
   ]
  },
  {
   "cell_type": "code",
   "execution_count": null,
   "metadata": {},
   "outputs": [],
   "source": [
    "newton(equation2,deriv_eq2, 0.205)"
   ]
  },
  {
   "cell_type": "markdown",
   "metadata": {},
   "source": [
    "We run into problems when the derivative of the function gets close to zero."
   ]
  }
 ],
 "metadata": {
  "kernelspec": {
   "display_name": "Python 3",
   "language": "python",
   "name": "python3"
  },
  "language_info": {
   "codemirror_mode": {
    "name": "ipython",
    "version": 3
   },
   "file_extension": ".py",
   "mimetype": "text/x-python",
   "name": "python",
   "nbconvert_exporter": "python",
   "pygments_lexer": "ipython3",
   "version": "3.6.5"
  }
 },
 "nbformat": 4,
 "nbformat_minor": 2
}
