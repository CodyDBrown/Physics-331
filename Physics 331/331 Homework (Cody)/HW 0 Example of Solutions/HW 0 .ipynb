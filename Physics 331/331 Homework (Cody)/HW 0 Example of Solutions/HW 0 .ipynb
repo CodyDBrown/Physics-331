{
 "cells": [
  {
   "cell_type": "markdown",
   "metadata": {},
   "source": [
    "# HW 0: Example Solutions\n",
    "You do not have to do this. These are some extra problems you could do if you want. But this is mainly just so that you have an example of what I'm looking for in your solutions"
   ]
  },
  {
   "cell_type": "markdown",
   "metadata": {},
   "source": [
    "#### Problem 1: Pitching a Strike\n",
    "The pitchers mound is 60 feed 6 inches away from home plate, and raised a hight of 10 inches. I want to write a program that will solve for what angle I need to throw the ball at in order to pitch a strike. The strike zone is the region of space from the midpoint of that batters back to the kneecap. So this will vary from batter to batter. So to simplify our life lets just say the ball needs to pass homeplate two and a half feet above the ground. \n",
    "\n",
    "$\\textbf{a)}$ When you try to throw a strike you throw the ball 50 mph, and you let go of the ball 5 feet above the. What angle should the ball leave your hand to pitch a strike?\n",
    "\n",
    "$\\textbf{b)}$ Nolan Ryan's fastball was once measured to be at 100.8 mph. Using this as a launch speed, and assuming the ball was let go 5 feet 8 inches, what angle does he need launch the ball at?"
   ]
  }
 ],
 "metadata": {
  "kernelspec": {
   "display_name": "Python 3",
   "language": "python",
   "name": "python3"
  },
  "language_info": {
   "codemirror_mode": {
    "name": "ipython",
    "version": 3
   },
   "file_extension": ".py",
   "mimetype": "text/x-python",
   "name": "python",
   "nbconvert_exporter": "python",
   "pygments_lexer": "ipython3",
   "version": "3.6.6"
  }
 },
 "nbformat": 4,
 "nbformat_minor": 2
}
