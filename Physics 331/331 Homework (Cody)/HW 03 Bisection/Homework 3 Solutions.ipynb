{
 "cells": [
  {
   "cell_type": "markdown",
   "metadata": {},
   "source": [
    "# Homework 3 Solutions"
   ]
  },
  {
   "cell_type": "code",
   "execution_count": 2,
   "metadata": {},
   "outputs": [
    {
     "name": "stdout",
     "output_type": "stream",
     "text": [
      "/home/cody/Physics 331/Textbook Programs/Chapter 2\n",
      "bisect_eq2.py          deriv_eq2.py  \u001b[0m\u001b[01;35mfigure 2.1.png\u001b[0m  \u001b[01;35mfigure 2.4.png\u001b[0m\r\n",
      "bisect.py              equation2.py  \u001b[01;35mFigure 2.2.png\u001b[0m  newton.py\r\n",
      "Chapter 2 Stuff.ipynb  equation3.py  \u001b[01;35mfigure 2.3.png\u001b[0m  \u001b[01;34m__pycache__\u001b[0m/\r\n"
     ]
    }
   ],
   "source": [
    "%cd \"/home/cody/Physics 331/Textbook Programs/Chapter 2\"\n",
    "%ls"
   ]
  },
  {
   "cell_type": "code",
   "execution_count": 73,
   "metadata": {},
   "outputs": [],
   "source": [
    "import numpy as np\n",
    "import matplotlib.pyplot as plt\n",
    "def kepler_equation(u):\n",
    "    \"\"\"\n",
    "    Keplers Equation, 't' needs to be declaired as a global variable outside of the function.\n",
    "    \n",
    "    Input\n",
    "    ----------\n",
    "    u: Mean anomoly\n",
    "    \n",
    "    \"\"\"\n",
    "    T = 259200 + 18000 + 2100 #Time of pericenter passage, days + 5 hours + 35 minutes, in seconds.\n",
    "    P = 3.154e7 #Number of seconds in a year. \n",
    "    e = 0.0167 #Eccentricity of Earths orbit\n",
    "    kepler = u - e*np.sin(u) - 2*np.pi / P * (t - T)\n",
    "    return kepler"
   ]
  },
  {
   "cell_type": "code",
   "execution_count": 3,
   "metadata": {},
   "outputs": [],
   "source": [
    "%run bisect.py"
   ]
  },
  {
   "cell_type": "code",
   "execution_count": 23,
   "metadata": {},
   "outputs": [
    {
     "data": {
      "text/plain": [
       "[<matplotlib.lines.Line2D at 0x7fba9700ef98>]"
      ]
     },
     "execution_count": 23,
     "metadata": {},
     "output_type": "execute_result"
    },
    {
     "data": {
      "image/png": "[encoded data removed]",
      "text/plain": [
       "<Figure size 432x288 with 1 Axes>"
      ]
     },
     "metadata": {},
     "output_type": "display_data"
    }
   ],
   "source": [
    "us = np.arange(-2*np.pi,2*np.pi, 0.001)\n",
    "t = 0\n",
    "plt.plot(us, kepler_equation(us))\n",
    "t = 2592000.0\n",
    "plt.plot(us, kepler_equation(us))"
   ]
  },
  {
   "cell_type": "code",
   "execution_count": 74,
   "metadata": {},
   "outputs": [],
   "source": [
    "def eccentric_anomaly(times):\n",
    "    u = []\n",
    "    for n in times:\n",
    "        global t\n",
    "        t = n\n",
    "        u_temp = bisect(kepler_equation, -2*np.pi, 2*np.pi)\n",
    "        u.append(u_temp)\n",
    "    return u, times"
   ]
  },
  {
   "cell_type": "code",
   "execution_count": 75,
   "metadata": {},
   "outputs": [],
   "source": [
    "times = np.arange(0,3.15e7,10000)\n",
    "u_foo, t_foo = eccentric_anomaly(times)"
   ]
  },
  {
   "cell_type": "code",
   "execution_count": 82,
   "metadata": {},
   "outputs": [
    {
     "data": {
      "text/plain": [
       "[<matplotlib.lines.Line2D at 0x7fba969bac88>]"
      ]
     },
     "execution_count": 82,
     "metadata": {},
     "output_type": "execute_result"
    },
    {
     "data": {
      "image/png": "[encoded data removed]",
      "text/plain": [
       "<Figure size 432x288 with 1 Axes>"
      ]
     },
     "metadata": {},
     "output_type": "display_data"
    }
   ],
   "source": [
    "plt.plot(t_foo, u_foo)"
   ]
  },
  {
   "cell_type": "code",
   "execution_count": 36,
   "metadata": {},
   "outputs": [],
   "source": [
    "times = np.arange(0,3.15e7, 2.592e6)"
   ]
  },
  {
   "cell_type": "code",
   "execution_count": null,
   "metadata": {},
   "outputs": [],
   "source": [
    "import numpy as np\n",
    "def bisect(func_name, xL, xR):\n",
    "    \"\"\"\n",
    "    Find the solution the input equation f(x) = 0 for some input function. Start\n",
    "    with the interval xL xR, and return a solution with a relative error\n",
    "    0.5e-5.\n",
    "\n",
    "    Inputs\n",
    "    ----------\n",
    "    func_name: This is the name of the function that I want to find roots for\n",
    "\n",
    "    xL:        Smaller 'x' value I want to evaluate func_name at\n",
    "\n",
    "    xR:        Higher 'x' value I want to evaluate func_name at\n",
    "\n",
    "    Output\n",
    "    ----------\n",
    "    x_zero: 'x' value that returns func_name(x) = 0\n",
    "    \"\"\"\n",
    "    fL = func_name(xL)\n",
    "    fR = func_name(xR)\n",
    "    #print(\"Function at the left: {} \\nFunction at the right: {} \".format(fL, fR))\n",
    "    if fL * fR > 0:     # Same sign on both sides\n",
    "        return print(\"Both values give the same sign.\") #Exit if inputs are wrong\n",
    "\n",
    "    while np.abs( xR - xL ) > 1.0e-5 * np.max(np.abs([xL,xR])):\n",
    "        xMP = 0.5*(xL + xR)\n",
    "        fMP = func_name(xMP)\n",
    "\n",
    "        if fMP == 0:       # Got lucky and found the root exactly\n",
    "            return xMP\n",
    "\n",
    "        if fMP * fR > 0:\n",
    "            xR = xMP\n",
    "            fR = fMP\n",
    "\n",
    "        else:\n",
    "            xL = xMP\n",
    "            fL = fMP\n",
    "    x_zero = 0.5 * (xL + xR)\n",
    "\n",
    "    return x_zero\n"
   ]
  },
  {
   "cell_type": "code",
   "execution_count": null,
   "metadata": {},
   "outputs": [],
   "source": []
  }
 ],
 "metadata": {
  "kernelspec": {
   "display_name": "Python 3",
   "language": "python",
   "name": "python3"
  },
  "language_info": {
   "codemirror_mode": {
    "name": "ipython",
    "version": 3
   },
   "file_extension": ".py",
   "mimetype": "text/x-python",
   "name": "python",
   "nbconvert_exporter": "python",
   "pygments_lexer": "ipython3",
   "version": "3.6.6"
  }
 },
 "nbformat": 4,
 "nbformat_minor": 2
}
