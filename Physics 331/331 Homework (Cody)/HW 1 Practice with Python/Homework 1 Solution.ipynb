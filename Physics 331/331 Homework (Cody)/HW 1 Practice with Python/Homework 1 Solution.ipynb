{
 "cells": [
  {
   "cell_type": "markdown",
   "metadata": {},
   "source": [
    "# PHSX 331 Homework 1 Solution - Practice with Python.\n"
   ]
  },
  {
   "cell_type": "code",
   "execution_count": 19,
   "metadata": {},
   "outputs": [
    {
     "name": "stdout",
     "output_type": "stream",
     "text": [
      "[44 47 64 67 67  9 83 21 36 87 70 88 88 12 58 65 39 87 46 88 81 37 25 77\n",
      " 72]\n"
     ]
    }
   ],
   "source": [
    "import numpy\n",
    "numpy.random.seed(0)\n",
    "foo = numpy.random.randint(0,100,25)\n",
    "print (foo)"
   ]
  },
  {
   "cell_type": "markdown",
   "metadata": {},
   "source": [
    "### 1a sum of even numbers"
   ]
  },
  {
   "cell_type": "code",
   "execution_count": 20,
   "metadata": {},
   "outputs": [],
   "source": [
    "def sum_even(x):\n",
    "    answer = 0\n",
    "    for n in x:\n",
    "        if n%2 == 0: #Check if the number is even\n",
    "            answer += n\n",
    "    return answer"
   ]
  },
  {
   "cell_type": "code",
   "execution_count": 21,
   "metadata": {},
   "outputs": [
    {
     "data": {
      "text/plain": [
       "666"
      ]
     },
     "execution_count": 21,
     "metadata": {},
     "output_type": "execute_result"
    }
   ],
   "source": [
    "sum_even(foo)"
   ]
  },
  {
   "cell_type": "markdown",
   "metadata": {},
   "source": [
    "100% by accident"
   ]
  },
  {
   "cell_type": "markdown",
   "metadata": {},
   "source": [
    "### 1b. Odd sum"
   ]
  },
  {
   "cell_type": "code",
   "execution_count": 22,
   "metadata": {},
   "outputs": [],
   "source": [
    "def sum_odd(x):\n",
    "    answer = 0\n",
    "    for n in x:\n",
    "        if n%2 != 0: #If it's not even, then it's odd\n",
    "            answer += n\n",
    "    return answer"
   ]
  },
  {
   "cell_type": "code",
   "execution_count": 23,
   "metadata": {},
   "outputs": [
    {
     "data": {
      "text/plain": [
       "792"
      ]
     },
     "execution_count": 23,
     "metadata": {},
     "output_type": "execute_result"
    }
   ],
   "source": [
    "sum_odd(foo)"
   ]
  },
  {
   "cell_type": "code",
   "execution_count": 25,
   "metadata": {},
   "outputs": [
    {
     "name": "stdout",
     "output_type": "stream",
     "text": [
      "1458 1458\n"
     ]
    }
   ],
   "source": [
    "#Double check our answers\n",
    "print(sum_even(foo) + sum_odd(foo), sum(foo))"
   ]
  },
  {
   "cell_type": "markdown",
   "metadata": {},
   "source": [
    "### 2 Finding Fibonacci Numbers"
   ]
  },
  {
   "cell_type": "code",
   "execution_count": 37,
   "metadata": {},
   "outputs": [],
   "source": [
    "def fib_seq(final):\n",
    "    fib_num = [0, 1]\n",
    "    while fib_num[-1] < final:\n",
    "        fib_num.append(fib_num[-1] + fib_num[-2])\n",
    "    return fib_num"
   ]
  },
  {
   "cell_type": "code",
   "execution_count": 38,
   "metadata": {},
   "outputs": [
    {
     "data": {
      "text/plain": [
       "[0, 1, 1, 2, 3, 5, 8, 13, 21, 34, 55, 89, 144]"
      ]
     },
     "execution_count": 38,
     "metadata": {},
     "output_type": "execute_result"
    }
   ],
   "source": [
    "fib_seq(100)"
   ]
  },
  {
   "cell_type": "markdown",
   "metadata": {},
   "source": [
    "So this works but it goes past the max number I want. I only want the Fibonacci numbers less than 100. That's because the 'while' statment doesn't check things until after it appends the next number. So a second take at the program looks like."
   ]
  },
  {
   "cell_type": "code",
   "execution_count": 40,
   "metadata": {},
   "outputs": [],
   "source": [
    "def fib_seq2(final):\n",
    "    fib_num = [0, 1]\n",
    "    while fib_num[-1] < final:\n",
    "        next_number = fib_num[-1] + fib_num[-2]\n",
    "        if next_number > final: #Checks to make sure the next number I add is less than\n",
    "                                #the max number, if it is less than the max number then\n",
    "                                #we can add it on, if not, the just end the program there\n",
    "            return fib_num\n",
    "        fib_num.append(next_number)"
   ]
  },
  {
   "cell_type": "code",
   "execution_count": 45,
   "metadata": {},
   "outputs": [
    {
     "data": {
      "text/plain": [
       "[0, 1, 1, 2, 3, 5, 8, 13, 21, 34, 55, 89, 144, 233, 377, 610, 987]"
      ]
     },
     "execution_count": 45,
     "metadata": {},
     "output_type": "execute_result"
    }
   ],
   "source": [
    "fib_seq2(1000)"
   ]
  },
  {
   "cell_type": "code",
   "execution_count": 42,
   "metadata": {},
   "outputs": [],
   "source": [
    "\"\"\"\n",
    "To find the sum of all the even fibonacci numbers I'll just combine my two functions\n",
    "\"\"\"\n",
    "def fib_sum_even(final):\n",
    "    fib_num = fib_seq(final) #Run my fib_seq function, and store the answer as a variable fib_num\n",
    "    return sum_even(fib_num) #Run sum_even with the input being fib_num"
   ]
  },
  {
   "cell_type": "code",
   "execution_count": 44,
   "metadata": {},
   "outputs": [
    {
     "data": {
      "text/plain": [
       "798"
      ]
     },
     "execution_count": 44,
     "metadata": {},
     "output_type": "execute_result"
    }
   ],
   "source": [
    "fib_sum_even(1000)"
   ]
  },
  {
   "cell_type": "code",
   "execution_count": 82,
   "metadata": {},
   "outputs": [
    {
     "data": {
      "text/plain": [
       "524288"
      ]
     },
     "execution_count": 82,
     "metadata": {},
     "output_type": "execute_result"
    }
   ],
   "source": [
    "2**19"
   ]
  },
  {
   "cell_type": "markdown",
   "metadata": {},
   "source": [
    "### 3 Falling"
   ]
  },
  {
   "cell_type": "code",
   "execution_count": 56,
   "metadata": {},
   "outputs": [],
   "source": [
    "import numpy as np\n",
    "def falling(h):\n",
    "    # Physic 1 equation h = v_0 * t + 1/2 * a * t**2, \n",
    "    #v_0 = 0 so we only have \n",
    "    # h = 0.5*a*t**2, \n",
    "    # REMEMBER h must be in meters\n",
    "    g = 9.8 #Acceleration from gravity m/s**2\n",
    "    return np.sqrt(h*2/g)"
   ]
  },
  {
   "cell_type": "code",
   "execution_count": 57,
   "metadata": {},
   "outputs": [
    {
     "data": {
      "text/plain": [
       "0.4517539514526256"
      ]
     },
     "execution_count": 57,
     "metadata": {},
     "output_type": "execute_result"
    }
   ],
   "source": [
    "falling(1)"
   ]
  },
  {
   "cell_type": "code",
   "execution_count": 58,
   "metadata": {},
   "outputs": [
    {
     "data": {
      "text/plain": [
       "8.817885349720552"
      ]
     },
     "execution_count": 58,
     "metadata": {},
     "output_type": "execute_result"
    }
   ],
   "source": [
    "falling(381) #381 meters = 1250 ft"
   ]
  },
  {
   "cell_type": "code",
   "execution_count": 59,
   "metadata": {},
   "outputs": [
    {
     "data": {
      "text/plain": [
       "288.83050604894527"
      ]
     },
     "execution_count": 59,
     "metadata": {},
     "output_type": "execute_result"
    }
   ],
   "source": [
    "falling(408773) #408773 meters = 254 miles"
   ]
  },
  {
   "cell_type": "markdown",
   "metadata": {},
   "source": [
    "### Extra Creddit"
   ]
  },
  {
   "cell_type": "code",
   "execution_count": 60,
   "metadata": {},
   "outputs": [],
   "source": [
    "def prime_finder(x):\n",
    "    prime = True\n",
    "    i = 2\n",
    "    while i**2 < x:\n",
    "        if x%i == 0:\n",
    "            prime = False\n",
    "            break\n",
    "        i +=1 \n",
    "    return prime\n"
   ]
  },
  {
   "cell_type": "code",
   "execution_count": 61,
   "metadata": {},
   "outputs": [
    {
     "name": "stdout",
     "output_type": "stream",
     "text": [
      "True\n",
      "False\n",
      "True\n",
      "False\n"
     ]
    }
   ],
   "source": [
    "print(prime_finder(5))\n",
    "print(prime_finder(231))\n",
    "print(prime_finder(9851))\n",
    "print(prime_finder(9853))"
   ]
  },
  {
   "cell_type": "code",
   "execution_count": 62,
   "metadata": {},
   "outputs": [
    {
     "name": "stdout",
     "output_type": "stream",
     "text": [
      "44 µs ± 601 ns per loop (mean ± std. dev. of 7 runs, 10000 loops each)\n"
     ]
    }
   ],
   "source": [
    "%%timeit\n",
    "(prime_finder(5))\n",
    "(prime_finder(231))\n",
    "(prime_finder(9851))\n",
    "(prime_finder(9853))"
   ]
  },
  {
   "cell_type": "markdown",
   "metadata": {},
   "source": [
    "## Side Note\n",
    "One of the first things that comes up if you google the Fibonacci number question is this program,"
   ]
  },
  {
   "cell_type": "code",
   "execution_count": 46,
   "metadata": {},
   "outputs": [],
   "source": [
    "def F(n):\n",
    "    if n == 0: \n",
    "        return 0\n",
    "    elif n == 1: \n",
    "        return 1\n",
    "    else: \n",
    "        return F(n-1)+F(n-2)"
   ]
  },
  {
   "cell_type": "markdown",
   "metadata": {},
   "source": [
    "This will find Fibonacci numbers, but not well. It also doesn't do what we want. I want to find a list of the Fibonacci numbers, and this program will only give me the nth Fibonacci number, and it's really slow at doing that.\n",
    "\n",
    "Just to show how slow it is at doing that lets run F(n) for a range of different 'n' values and see how much longer it takes to run each time."
   ]
  },
  {
   "cell_type": "code",
   "execution_count": 84,
   "metadata": {},
   "outputs": [
    {
     "name": "stdout",
     "output_type": "stream",
     "text": [
      "88.8 ns ± 0.23 ns per loop (mean ± std. dev. of 7 runs, 10000000 loops each)\n",
      "108 ns ± 4.35 ns per loop (mean ± std. dev. of 7 runs, 10000000 loops each)\n",
      "311 ns ± 3.4 ns per loop (mean ± std. dev. of 7 runs, 1000000 loops each)\n",
      "558 ns ± 8.56 ns per loop (mean ± std. dev. of 7 runs, 1000000 loops each)\n",
      "1 µs ± 6.09 ns per loop (mean ± std. dev. of 7 runs, 1000000 loops each)\n",
      "1.7 µs ± 7.82 ns per loop (mean ± std. dev. of 7 runs, 1000000 loops each)\n",
      "2.81 µs ± 29.9 ns per loop (mean ± std. dev. of 7 runs, 100000 loops each)\n",
      "4.59 µs ± 47.6 ns per loop (mean ± std. dev. of 7 runs, 100000 loops each)\n",
      "7.44 µs ± 40.2 ns per loop (mean ± std. dev. of 7 runs, 100000 loops each)\n",
      "12.1 µs ± 50.9 ns per loop (mean ± std. dev. of 7 runs, 100000 loops each)\n",
      "19.8 µs ± 209 ns per loop (mean ± std. dev. of 7 runs, 10000 loops each)\n",
      "32.1 µs ± 456 ns per loop (mean ± std. dev. of 7 runs, 10000 loops each)\n",
      "52.1 µs ± 439 ns per loop (mean ± std. dev. of 7 runs, 10000 loops each)\n",
      "84.2 µs ± 1.15 µs per loop (mean ± std. dev. of 7 runs, 10000 loops each)\n",
      "138 µs ± 3.04 µs per loop (mean ± std. dev. of 7 runs, 10000 loops each)\n",
      "218 µs ± 2.45 µs per loop (mean ± std. dev. of 7 runs, 1000 loops each)\n",
      "351 µs ± 863 ns per loop (mean ± std. dev. of 7 runs, 1000 loops each)\n",
      "571 µs ± 3.44 µs per loop (mean ± std. dev. of 7 runs, 1000 loops each)\n",
      "931 µs ± 20.1 µs per loop (mean ± std. dev. of 7 runs, 1000 loops each)\n",
      "1.51 ms ± 9.17 µs per loop (mean ± std. dev. of 7 runs, 1000 loops each)\n"
     ]
    }
   ],
   "source": [
    "for i in range(0,20):\n",
    "    %timeit F(i)"
   ]
  },
  {
   "cell_type": "markdown",
   "metadata": {},
   "source": [
    "The Magic command %timeit runs a program multiple times and finds the mean time of how long it takes to run. "
   ]
  },
  {
   "cell_type": "code",
   "execution_count": 117,
   "metadata": {},
   "outputs": [
    {
     "data": {
      "text/plain": [
       "[<matplotlib.lines.Line2D at 0x7f233cb29860>]"
      ]
     },
     "execution_count": 117,
     "metadata": {},
     "output_type": "execute_result"
    },
    {
     "data": {
      "image/png": "[encoded data removed]",
      "text/plain": [
       "<Figure size 720x720 with 1 Axes>"
      ]
     },
     "metadata": {},
     "output_type": "display_data"
    }
   ],
   "source": [
    "import matplotlib.pyplot as plt\n",
    "plt.figure(figsize = (10,10))\n",
    "x = np.array(range(0,20))\n",
    "times = [88.8, 100, 311, 558, 1000, 1700,2810,4590, 7440, 12100, 19800,\n",
    "         32100, 52100, 84200, 138000, 218000, 352000, 572000, 931000, 1510000]\n",
    "plt.ylabel('Time in $ns$', size = 18)\n",
    "plt.xlabel('Nth Fibonacci Number')\n",
    "plt.xticks(range(0,20))\n",
    "plt.title('Time it takes to fun recursive Fib sequence')\n",
    "plt.plot(x,times, 'x-')"
   ]
  },
  {
   "cell_type": "code",
   "execution_count": 104,
   "metadata": {},
   "outputs": [
    {
     "name": "stderr",
     "output_type": "stream",
     "text": [
      "/home/cody/anaconda3/lib/python3.6/site-packages/ipykernel_launcher.py:1: RuntimeWarning: divide by zero encountered in log10\n",
      "  \"\"\"Entry point for launching an IPython kernel.\n"
     ]
    },
    {
     "data": {
      "text/plain": [
       "-inf"
      ]
     },
     "execution_count": 104,
     "metadata": {},
     "output_type": "execute_result"
    }
   ],
   "source": []
  },
  {
   "cell_type": "code",
   "execution_count": null,
   "metadata": {},
   "outputs": [],
   "source": []
  }
 ],
 "metadata": {
  "kernelspec": {
   "display_name": "Python 3",
   "language": "python",
   "name": "python3"
  },
  "language_info": {
   "codemirror_mode": {
    "name": "ipython",
    "version": 3
   },
   "file_extension": ".py",
   "mimetype": "text/x-python",
   "name": "python",
   "nbconvert_exporter": "python",
   "pygments_lexer": "ipython3",
   "version": "3.6.6"
  }
 },
 "nbformat": 4,
 "nbformat_minor": 2
}
