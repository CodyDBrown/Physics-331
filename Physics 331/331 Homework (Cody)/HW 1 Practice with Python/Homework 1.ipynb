{
 "cells": [
  {
   "cell_type": "markdown",
   "metadata": {},
   "source": [
    "# PHSX 331 Homework 1 - Practice with Python.\n",
    "## Due September 5th 5:00 p.m.\n",
    "Goal of this assignment is to give you some practice doing simple tasks with Python. I would recommend doing these in order as each problem will get a little harder and you can use the previous problem to help solve the next one. \n",
    "\n",
    "For problems 1 use the list foo, (putting this into a cell will create the same set of random numbers)"
   ]
  },
  {
   "cell_type": "code",
   "execution_count": 3,
   "metadata": {},
   "outputs": [
    {
     "name": "stdout",
     "output_type": "stream",
     "text": [
      "[44 47 64 67 67  9 83 21 36 87 70 88 88 12 58 65 39 87 46 88 81 37 25 77\n",
      " 72]\n"
     ]
    }
   ],
   "source": [
    "import numpy\n",
    "numpy.random.seed(0)\n",
    "foo = numpy.random.randint(0,100,25)\n",
    "print(foo)"
   ]
  },
  {
   "cell_type": "markdown",
   "metadata": {},
   "source": [
    "#### Problem 1: Suming a list / array \n",
    "$\\textbf{a)}$ Find the sum of all of the even numbers in the array \"foo\"\n",
    "\n",
    "$\\textbf{b)}$ Find the sum of all of the odd numbers in the array \"foo\""
   ]
  },
  {
   "cell_type": "markdown",
   "metadata": {},
   "source": [
    "#### Problem 2: Equivalent resistance\n",
    "\n",
    "$\\textbf{a)}$ Write a function that takes a list of resistor values as an input and returns the equivalent resistance for all of the resistors being in serires. Check it for a circut with 2 $\\Omega$, 10 k$\\Omega$, and 143 $\\Omega$ resistors \n",
    "\n",
    "$\\textbf{b)}$ Now write a function that takes the same list of resistors and finds the equivalent resistance for the resistors when they are wired in parallel.\n",
    "\n",
    "$\\textbf{c)}$ I want to write a program that could take in this picture of a simple circuit and find the equivalent resistance. Don't try to write a program that does this (unless you want to, but this a hard problem). Just think about how you would go about writiing a program do to this. What would the challenges be? What kind of things would you tell the computer to look at? Again I'm not looking for you to write a program for this, just brain storm ideas of how you might try to solve the problem. \n"
   ]
  },
  {
   "cell_type": "markdown",
   "metadata": {},
   "source": [
    "#### Problem 3: Fun with Fibonacci\n",
    "$\\textbf{a)}$ The Fibonacci numbers are a set of numbers that are found by adding the last two numbers of the serires together. The first two numbers are given as,"
   ]
  },
  {
   "cell_type": "code",
   "execution_count": 2,
   "metadata": {},
   "outputs": [],
   "source": [
    "fib_num = [0, 1]"
   ]
  },
  {
   "cell_type": "markdown",
   "metadata": {},
   "source": [
    "The next number in the series would be,"
   ]
  },
  {
   "cell_type": "code",
   "execution_count": 3,
   "metadata": {},
   "outputs": [
    {
     "data": {
      "text/plain": [
       "1"
      ]
     },
     "execution_count": 3,
     "metadata": {},
     "output_type": "execute_result"
    }
   ],
   "source": [
    "fib_num[0] + fib_num[1]"
   ]
  },
  {
   "cell_type": "markdown",
   "metadata": {},
   "source": [
    "So the series would now look like,"
   ]
  },
  {
   "cell_type": "code",
   "execution_count": 4,
   "metadata": {},
   "outputs": [],
   "source": [
    "fib_num = [0,1,1]"
   ]
  },
  {
   "cell_type": "markdown",
   "metadata": {},
   "source": [
    "Then we add the last two numbers of the series together, 1 + 1. So the fourth number in the series is 2. We can do this as many times as we want. \n",
    "\n",
    "To make sure your code works test it to find all the fibinacci numbers less than 100. This way you can easily check that your code works by hand. The only input your function should have is the desired max number you want to find."
   ]
  },
  {
   "cell_type": "markdown",
   "metadata": {},
   "source": [
    "$\\textbf{b)}$ Find the sum of all even Fibonacci numbers less than 2 billion. If your program in question 6 is slow then this will take a really long time. Try to spend some time optimizing your program in question 6 first. If you can't optimize that's fine, you just might have to wait an hour to get the answer. (You should just combine your code from question 2 and 6)\n",
    "\n",
    "For an extra challenge (you do not have to do this) see if you can do this without storing all of the numbers a list/array. We don't care about what all of the Fibonacci numbers are, we only care about the sum of the even numbers, so making a list of them and then adding up the numbers we care about is a waste of memory. It would be nice is we could forget about older Fibonacci numbers when we don't need them any more. "
   ]
  },
  {
   "cell_type": "markdown",
   "metadata": {},
   "source": [
    "#### Problem 4: Prime or not Prime\n",
    "Write a function that tests if a number is prime or not. The function should take an input and give you back a True or False."
   ]
  },
  {
   "cell_type": "code",
   "execution_count": 32,
   "metadata": {},
   "outputs": [
    {
     "data": {
      "text/plain": [
       "True"
      ]
     },
     "execution_count": 32,
     "metadata": {},
     "output_type": "execute_result"
    }
   ],
   "source": [
    "prime_finder(3)"
   ]
  },
  {
   "cell_type": "code",
   "execution_count": 33,
   "metadata": {},
   "outputs": [
    {
     "data": {
      "text/plain": [
       "False"
      ]
     },
     "execution_count": 33,
     "metadata": {},
     "output_type": "execute_result"
    }
   ],
   "source": [
    "prime_finder(10)"
   ]
  },
  {
   "cell_type": "code",
   "execution_count": 36,
   "metadata": {},
   "outputs": [
    {
     "data": {
      "text/plain": [
       "True"
      ]
     },
     "execution_count": 36,
     "metadata": {},
     "output_type": "execute_result"
    }
   ],
   "source": [
    "prime_finder(732041)"
   ]
  },
  {
   "cell_type": "markdown",
   "metadata": {},
   "source": [
    "Test your functino on the numbers 5, 231, 9851, 9853. \n",
    "\n",
    "You can just brue force this. Take a number 'x' and divide it by all numbers less than it and see if any of these return a remander of zero. This will work for smaller numbers, but this will take a really long time for large numbers. \n",
    "\n",
    "This is because you'll be double checking some numbers. When checking if 10 is prime or not, if you do 10/2 you then know that 5 will work as a divisor, so you don't need to tell the computer to check if 10/5 returns a remainder of zero.\n",
    "\n",
    "Also you don't want to check higher numbers if you've already found an even divisor. When checking if 12 is prime, as soon as you know 12/2 gives an integer, you can stop checking larger numbers (look up what 'break' does in python)."
   ]
  },
  {
   "cell_type": "markdown",
   "metadata": {},
   "source": [
    "#### Problem 5: Falling (with style)\n",
    "Write a function that takes a hight as an input (h) and finds the time it takes to hit the ground if dropped from that hight (t), assuming no air resistance, for the distances, 1 meter, 1,250 ft (Empire State Building), 254 miles (International Space Station). Be careful with your units."
   ]
  },
  {
   "cell_type": "markdown",
   "metadata": {},
   "source": [
    "### Bonus Problem\n",
    "(You don't have to do this! This is just an extra chalenging problem to get more practice if you want it. Don't feel bad if you don't do it.)\n",
    "\n"
   ]
  },
  {
   "cell_type": "markdown",
   "metadata": {},
   "source": [
    "#### Bonus Problem 1\n",
    "The fundamental theorem of arithmetic (FTA), says that all numbers greater than 1 are either prime, or can be writen as a product of prime numbers. Euclid proved this around 300 B.C. See Book VII, propositions 30, 31 and 32, and Book IX, proposition 14 of Euclid's Elements for proof. \n",
    "\n",
    "Write a function that finds the prime factors for a given input number. As an example,"
   ]
  },
  {
   "cell_type": "code",
   "execution_count": 42,
   "metadata": {},
   "outputs": [
    {
     "data": {
      "text/plain": [
       "[2, 2, 2, 2, 3, 5, 5]"
      ]
     },
     "execution_count": 42,
     "metadata": {},
     "output_type": "execute_result"
    }
   ],
   "source": [
    "prime_factors(1200)"
   ]
  },
  {
   "cell_type": "markdown",
   "metadata": {},
   "source": [
    "Test this for 12, 1200, and 12345678987654321"
   ]
  },
  {
   "cell_type": "markdown",
   "metadata": {},
   "source": [
    "When I test this with my code it takes,"
   ]
  },
  {
   "cell_type": "code",
   "execution_count": 49,
   "metadata": {},
   "outputs": [
    {
     "name": "stdout",
     "output_type": "stream",
     "text": [
      "2.73 s ± 2.8 ms per loop (mean ± std. dev. of 7 runs, 1 loop each)\n"
     ]
    }
   ],
   "source": [
    "%timeit prime_factors(12345678987654321)"
   ]
  },
  {
   "cell_type": "markdown",
   "metadata": {},
   "source": [
    "If you can beat my time I'll give you a point of extra creddit!"
   ]
  },
  {
   "cell_type": "code",
   "execution_count": 2,
   "metadata": {},
   "outputs": [
    {
     "data": {
      "image/png": "[encoded data removed]",
      "text/plain": [
       "<Figure size 432x288 with 1 Axes>"
      ]
     },
     "metadata": {},
     "output_type": "display_data"
    }
   ],
   "source": [
    "import matplotlib.pyplot as plt\n",
    "plt.plot([1,2,3],[1,2,3])\n",
    "plt.show()"
   ]
  },
  {
   "cell_type": "code",
   "execution_count": null,
   "metadata": {},
   "outputs": [],
   "source": []
  }
 ],
 "metadata": {
  "kernelspec": {
   "display_name": "Python 3",
   "language": "python",
   "name": "python3"
  },
  "language_info": {
   "codemirror_mode": {
    "name": "ipython",
    "version": 3
   },
   "file_extension": ".py",
   "mimetype": "text/x-python",
   "name": "python",
   "nbconvert_exporter": "python",
   "pygments_lexer": "ipython3",
   "version": "3.6.6"
  }
 },
 "nbformat": 4,
 "nbformat_minor": 2
}
